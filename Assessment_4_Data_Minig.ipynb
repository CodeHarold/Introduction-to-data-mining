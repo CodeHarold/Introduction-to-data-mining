{
 "cells": [
  {
   "cell_type": "markdown",
   "metadata": {},
   "source": [
    "# Cover Sheet\n",
    "\n",
    "* **Subject Title:** Introduction to Data Mining\n",
    "\n"
   ]
  },
  {
   "cell_type": "markdown",
   "metadata": {},
   "source": [
    "# Assignment "
   ]
  },
  {
   "cell_type": "markdown",
   "metadata": {},
   "source": [
    "### Task Breakdown"
   ]
  },
  {
   "cell_type": "code",
   "execution_count": 1,
   "metadata": {},
   "outputs": [
    {
     "name": "stdout",
     "output_type": "stream",
     "text": [
      "Requirement already satisfied: ucimlrepo in c:\\users\\harol\\.virtualenvs\\ejecutables-snxlcja2\\lib\\site-packages (0.0.7)\n",
      "Requirement already satisfied: pandas>=1.0.0 in c:\\users\\harol\\.virtualenvs\\ejecutables-snxlcja2\\lib\\site-packages (from ucimlrepo) (2.2.2)\n",
      "Requirement already satisfied: certifi>=2020.12.5 in c:\\users\\harol\\.virtualenvs\\ejecutables-snxlcja2\\lib\\site-packages (from ucimlrepo) (2024.7.4)\n",
      "Requirement already satisfied: numpy>=1.23.2 in c:\\users\\harol\\.virtualenvs\\ejecutables-snxlcja2\\lib\\site-packages (from pandas>=1.0.0->ucimlrepo) (1.26.4)\n",
      "Requirement already satisfied: python-dateutil>=2.8.2 in c:\\users\\harol\\.virtualenvs\\ejecutables-snxlcja2\\lib\\site-packages (from pandas>=1.0.0->ucimlrepo) (2.9.0.post0)\n",
      "Requirement already satisfied: pytz>=2020.1 in c:\\users\\harol\\.virtualenvs\\ejecutables-snxlcja2\\lib\\site-packages (from pandas>=1.0.0->ucimlrepo) (2024.1)\n",
      "Requirement already satisfied: tzdata>=2022.7 in c:\\users\\harol\\.virtualenvs\\ejecutables-snxlcja2\\lib\\site-packages (from pandas>=1.0.0->ucimlrepo) (2024.1)\n",
      "Requirement already satisfied: six>=1.5 in c:\\users\\harol\\.virtualenvs\\ejecutables-snxlcja2\\lib\\site-packages (from python-dateutil>=2.8.2->pandas>=1.0.0->ucimlrepo) (1.16.0)\n",
      "Note: you may need to restart the kernel to use updated packages.\n"
     ]
    },
    {
     "name": "stderr",
     "output_type": "stream",
     "text": [
      "\n",
      "[notice] A new release of pip is available: 23.0.1 -> 24.2\n",
      "[notice] To update, run: python.exe -m pip install --upgrade pip\n"
     ]
    }
   ],
   "source": [
    "pip install ucimlrepo"
   ]
  },
  {
   "cell_type": "code",
   "execution_count": 2,
   "metadata": {},
   "outputs": [],
   "source": [
    "import pandas as pd\n",
    "from ucimlrepo import fetch_ucirepo\n",
    "\n",
    "\n",
    "#fetch dataset\n",
    "adult = fetch_ucirepo(id =2)\n",
    "\n",
    "#data (as pandas dataframes)\n",
    "x = adult.data.features\n",
    "y = adult.data.targets"
   ]
  },
  {
   "cell_type": "markdown",
   "metadata": {},
   "source": [
    "# 1. Data Cleaning\n",
    "Complete all steps of data cleaning to ensure that your data is in the right format for modelling. This includes, but not limited to:\n",
    " * Ensure that the dataset is free more missing values (Nas)\n",
    " * Confirm that the dataset contains no duplicate records\n",
    " * Verify that all values in the dataset are accurate and consistent\n",
    "\n"
   ]
  },
  {
   "cell_type": "markdown",
   "metadata": {},
   "source": [
    "### 1.1 Cleannig the dataset by ensuring it is free from missing values(NaNs)"
   ]
  },
  {
   "cell_type": "markdown",
   "metadata": {},
   "source": [
    "As a first step in data cleaning, we are going to check if the data frame x = adult.data.features and y = adult.data.targets have missing values ​​(NAN). To do this, we are going to use the .isna() function. This function returns a boolean object of the same size indicating whether the values ​​are NA. (Pandas.DataFrame.isna — Pandas 2.2.2 Documentation, n.d.). "
   ]
  },
  {
   "cell_type": "code",
   "execution_count": 3,
   "metadata": {},
   "outputs": [
    {
     "name": "stdout",
     "output_type": "stream",
     "text": [
      "Display the missing values in features: \n",
      " age                 0\n",
      "workclass         963\n",
      "fnlwgt              0\n",
      "education           0\n",
      "education-num       0\n",
      "marital-status      0\n",
      "occupation        966\n",
      "relationship        0\n",
      "race                0\n",
      "sex                 0\n",
      "capital-gain        0\n",
      "capital-loss        0\n",
      "hours-per-week      0\n",
      "native-country    274\n",
      "dtype: int64\n",
      "\n",
      "Display the missing values in targets: \n",
      " income    0\n",
      "dtype: int64\n"
     ]
    }
   ],
   "source": [
    "# Step 1 : Check for missing values (NaNs)\n",
    "\n",
    "print(\"Display the missing values in features: \\n\", x.isna().sum())\n",
    "print(\"\\nDisplay the missing values in targets: \\n\", y.isna().sum())"
   ]
  },
  {
   "cell_type": "markdown",
   "metadata": {},
   "source": [
    "As we can see above, there are some variables that were returned as TRUE for NAN. Therefore, the following code fills the missing values ​​in the categorical columns."
   ]
  },
  {
   "cell_type": "code",
   "execution_count": 4,
   "metadata": {},
   "outputs": [
    {
     "name": "stderr",
     "output_type": "stream",
     "text": [
      "C:\\Users\\harol\\AppData\\Local\\Temp\\ipykernel_3504\\4257164644.py:3: FutureWarning: A value is trying to be set on a copy of a DataFrame or Series through chained assignment using an inplace method.\n",
      "The behavior will change in pandas 3.0. This inplace method will never work because the intermediate object on which we are setting values always behaves as a copy.\n",
      "\n",
      "For example, when doing 'df[col].method(value, inplace=True)', try using 'df.method({col: value}, inplace=True)' or df[col] = df[col].method(value) instead, to perform the operation inplace on the original object.\n",
      "\n",
      "\n",
      "  x['workclass'].fillna(x['workclass'].mode()[0],inplace=True)\n",
      "C:\\Users\\harol\\AppData\\Local\\Temp\\ipykernel_3504\\4257164644.py:3: SettingWithCopyWarning: \n",
      "A value is trying to be set on a copy of a slice from a DataFrame\n",
      "\n",
      "See the caveats in the documentation: https://pandas.pydata.org/pandas-docs/stable/user_guide/indexing.html#returning-a-view-versus-a-copy\n",
      "  x['workclass'].fillna(x['workclass'].mode()[0],inplace=True)\n",
      "C:\\Users\\harol\\AppData\\Local\\Temp\\ipykernel_3504\\4257164644.py:4: FutureWarning: A value is trying to be set on a copy of a DataFrame or Series through chained assignment using an inplace method.\n",
      "The behavior will change in pandas 3.0. This inplace method will never work because the intermediate object on which we are setting values always behaves as a copy.\n",
      "\n",
      "For example, when doing 'df[col].method(value, inplace=True)', try using 'df.method({col: value}, inplace=True)' or df[col] = df[col].method(value) instead, to perform the operation inplace on the original object.\n",
      "\n",
      "\n",
      "  x['occupation'].fillna(x['occupation'].mode()[0], inplace=True)\n",
      "C:\\Users\\harol\\AppData\\Local\\Temp\\ipykernel_3504\\4257164644.py:4: SettingWithCopyWarning: \n",
      "A value is trying to be set on a copy of a slice from a DataFrame\n",
      "\n",
      "See the caveats in the documentation: https://pandas.pydata.org/pandas-docs/stable/user_guide/indexing.html#returning-a-view-versus-a-copy\n",
      "  x['occupation'].fillna(x['occupation'].mode()[0], inplace=True)\n",
      "C:\\Users\\harol\\AppData\\Local\\Temp\\ipykernel_3504\\4257164644.py:5: FutureWarning: A value is trying to be set on a copy of a DataFrame or Series through chained assignment using an inplace method.\n",
      "The behavior will change in pandas 3.0. This inplace method will never work because the intermediate object on which we are setting values always behaves as a copy.\n",
      "\n",
      "For example, when doing 'df[col].method(value, inplace=True)', try using 'df.method({col: value}, inplace=True)' or df[col] = df[col].method(value) instead, to perform the operation inplace on the original object.\n",
      "\n",
      "\n",
      "  x['native-country'].fillna(x['native-country'].mode()[0],inplace=True)\n",
      "C:\\Users\\harol\\AppData\\Local\\Temp\\ipykernel_3504\\4257164644.py:5: SettingWithCopyWarning: \n",
      "A value is trying to be set on a copy of a slice from a DataFrame\n",
      "\n",
      "See the caveats in the documentation: https://pandas.pydata.org/pandas-docs/stable/user_guide/indexing.html#returning-a-view-versus-a-copy\n",
      "  x['native-country'].fillna(x['native-country'].mode()[0],inplace=True)\n"
     ]
    }
   ],
   "source": [
    "# Step 2 : Missing values found workclass, Occupation and native-country.  Handle missing values ​​by filling the values ​​with the column (mode) dute to that they are categorical values \n",
    "\n",
    "x['workclass'].fillna(x['workclass'].mode()[0],inplace=True)\n",
    "x['occupation'].fillna(x['occupation'].mode()[0], inplace=True)\n",
    "x['native-country'].fillna(x['native-country'].mode()[0],inplace=True)\n",
    "\n"
   ]
  },
  {
   "cell_type": "code",
   "execution_count": 5,
   "metadata": {},
   "outputs": [
    {
     "name": "stdout",
     "output_type": "stream",
     "text": [
      "Display the missing values in features: \n",
      " age               0\n",
      "workclass         0\n",
      "fnlwgt            0\n",
      "education         0\n",
      "education-num     0\n",
      "marital-status    0\n",
      "occupation        0\n",
      "relationship      0\n",
      "race              0\n",
      "sex               0\n",
      "capital-gain      0\n",
      "capital-loss      0\n",
      "hours-per-week    0\n",
      "native-country    0\n",
      "dtype: int64\n",
      "\n",
      "Display the missing values in targets: \n",
      " income    0\n",
      "dtype: int64\n"
     ]
    }
   ],
   "source": [
    "# Check if all missing values ​​have been completed\n",
    "print(\"Display the missing values in features: \\n\", x.isna().sum())\n",
    "print(\"\\nDisplay the missing values in targets: \\n\", y.isna().sum())\n"
   ]
  },
  {
   "cell_type": "markdown",
   "metadata": {},
   "source": [
    "### 1.2 Confirm that the dataset contains no duplicate records"
   ]
  },
  {
   "cell_type": "markdown",
   "metadata": {},
   "source": [
    "At this stage, we need to check if the data frame contains duplicate values. For this, we will use the ExtensionArray.duplicated(keep='first') function which returns a boolean ndarray denoting duplicate values.(pandas, 2024)ated "
   ]
  },
  {
   "cell_type": "code",
   "execution_count": 6,
   "metadata": {},
   "outputs": [
    {
     "name": "stdout",
     "output_type": "stream",
     "text": [
      "Number of duplicate recobrds: 54\n"
     ]
    }
   ],
   "source": [
    "# Check for duplicate records\n",
    "duplicates = x.duplicated()\n",
    "\n",
    "# Count and display the number of number of duplicate\n",
    "\n",
    "nums_duplicates = duplicates.sum()\n",
    "print(f\"Number of duplicate recobrds: {nums_duplicates}\")"
   ]
  },
  {
   "cell_type": "markdown",
   "metadata": {},
   "source": [
    "We proceed to remove the duplicate values ​​using the data frame function using the drop_duplicates() function which returns a data frame with duplicate rows removed. We then check the shape of the data frame to make sure they are equal to fit the model."
   ]
  },
  {
   "cell_type": "code",
   "execution_count": 7,
   "metadata": {},
   "outputs": [
    {
     "name": "stdout",
     "output_type": "stream",
     "text": [
      "\n",
      "Shape after removing duplicates:\n",
      "Feactures shape: (48788, 14)\n",
      "Targets shape: (48788, 1)\n"
     ]
    }
   ],
   "source": [
    "# Delete duplicate records\n",
    "x_cleaned = x.drop_duplicates()\n",
    "\n",
    "# We must ensure that target values keep the same shape as the cleaned_x\n",
    "y_cleaned = y.loc[x_cleaned.index]\n",
    "\n",
    "# Verify the shapes after  removing duplicate records. \n",
    "print(\"\\nShape after removing duplicates:\")\n",
    "print(f\"Feactures shape: {x_cleaned.shape}\")\n",
    "print(f\"Targets shape: {y_cleaned.shape}\")"
   ]
  },
  {
   "cell_type": "markdown",
   "metadata": {},
   "source": [
    "### 1.3 Verify that all values in the dataset are accurate and consistent"
   ]
  },
  {
   "cell_type": "markdown",
   "metadata": {},
   "source": [
    "The dtypes function returns the data type of each column. This step is necessary to identify categorical and numeric values."
   ]
  },
  {
   "cell_type": "markdown",
   "metadata": {},
   "source": [
    "#### Data type"
   ]
  },
  {
   "cell_type": "code",
   "execution_count": 8,
   "metadata": {},
   "outputs": [
    {
     "name": "stdout",
     "output_type": "stream",
     "text": [
      "age                int64\n",
      "workclass         object\n",
      "fnlwgt             int64\n",
      "education         object\n",
      "education-num      int64\n",
      "marital-status    object\n",
      "occupation        object\n",
      "relationship      object\n",
      "race              object\n",
      "sex               object\n",
      "capital-gain       int64\n",
      "capital-loss       int64\n",
      "hours-per-week     int64\n",
      "native-country    object\n",
      "dtype: object\n"
     ]
    }
   ],
   "source": [
    "#Check The data type\n",
    "print(x_cleaned.dtypes)\n"
   ]
  },
  {
   "cell_type": "markdown",
   "metadata": {},
   "source": [
    "### Check for outliers"
   ]
  },
  {
   "cell_type": "markdown",
   "metadata": {},
   "source": [
    "This validation can flag any input errors in the data point, for example if there are some values ​​with 200 in the age column while the data point is 0 to 90. It can help in correcting them. For this purpose, we are going to install the Seaborn package which is a data visualization library that provides a high-level, informative interface for drawing attractive and informative statistical graphs. (Seaborn: Statistical Data Visualization, n.d.)"
   ]
  },
  {
   "cell_type": "code",
   "execution_count": 9,
   "metadata": {},
   "outputs": [
    {
     "name": "stdout",
     "output_type": "stream",
     "text": [
      "Requirement already satisfied: seaborn in c:\\users\\harol\\.virtualenvs\\ejecutables-snxlcja2\\lib\\site-packages (0.13.2)\n",
      "Requirement already satisfied: numpy!=1.24.0,>=1.20 in c:\\users\\harol\\.virtualenvs\\ejecutables-snxlcja2\\lib\\site-packages (from seaborn) (1.26.4)\n",
      "Requirement already satisfied: pandas>=1.2 in c:\\users\\harol\\.virtualenvs\\ejecutables-snxlcja2\\lib\\site-packages (from seaborn) (2.2.2)\n",
      "Requirement already satisfied: matplotlib!=3.6.1,>=3.4 in c:\\users\\harol\\.virtualenvs\\ejecutables-snxlcja2\\lib\\site-packages (from seaborn) (3.9.1.post1)\n",
      "Requirement already satisfied: contourpy>=1.0.1 in c:\\users\\harol\\.virtualenvs\\ejecutables-snxlcja2\\lib\\site-packages (from matplotlib!=3.6.1,>=3.4->seaborn) (1.2.1)\n",
      "Requirement already satisfied: cycler>=0.10 in c:\\users\\harol\\.virtualenvs\\ejecutables-snxlcja2\\lib\\site-packages (from matplotlib!=3.6.1,>=3.4->seaborn) (0.12.1)\n",
      "Requirement already satisfied: fonttools>=4.22.0 in c:\\users\\harol\\.virtualenvs\\ejecutables-snxlcja2\\lib\\site-packages (from matplotlib!=3.6.1,>=3.4->seaborn) (4.53.1)\n",
      "Requirement already satisfied: kiwisolver>=1.3.1 in c:\\users\\harol\\.virtualenvs\\ejecutables-snxlcja2\\lib\\site-packages (from matplotlib!=3.6.1,>=3.4->seaborn) (1.4.5)\n",
      "Requirement already satisfied: packaging>=20.0 in c:\\users\\harol\\.virtualenvs\\ejecutables-snxlcja2\\lib\\site-packages (from matplotlib!=3.6.1,>=3.4->seaborn) (23.1)\n",
      "Requirement already satisfied: pillow>=8 in c:\\users\\harol\\.virtualenvs\\ejecutables-snxlcja2\\lib\\site-packages (from matplotlib!=3.6.1,>=3.4->seaborn) (9.4.0)\n",
      "Requirement already satisfied: pyparsing>=2.3.1 in c:\\users\\harol\\.virtualenvs\\ejecutables-snxlcja2\\lib\\site-packages (from matplotlib!=3.6.1,>=3.4->seaborn) (3.1.2)\n",
      "Requirement already satisfied: python-dateutil>=2.7 in c:\\users\\harol\\.virtualenvs\\ejecutables-snxlcja2\\lib\\site-packages (from matplotlib!=3.6.1,>=3.4->seaborn) (2.9.0.post0)\n",
      "Requirement already satisfied: pytz>=2020.1 in c:\\users\\harol\\.virtualenvs\\ejecutables-snxlcja2\\lib\\site-packages (from pandas>=1.2->seaborn) (2024.1)\n",
      "Requirement already satisfied: tzdata>=2022.7 in c:\\users\\harol\\.virtualenvs\\ejecutables-snxlcja2\\lib\\site-packages (from pandas>=1.2->seaborn) (2024.1)\n",
      "Requirement already satisfied: six>=1.5 in c:\\users\\harol\\.virtualenvs\\ejecutables-snxlcja2\\lib\\site-packages (from python-dateutil>=2.7->matplotlib!=3.6.1,>=3.4->seaborn) (1.16.0)\n",
      "Note: you may need to restart the kernel to use updated packages.\n"
     ]
    },
    {
     "name": "stderr",
     "output_type": "stream",
     "text": [
      "\n",
      "[notice] A new release of pip is available: 23.0.1 -> 24.2\n",
      "[notice] To update, run: python.exe -m pip install --upgrade pip\n"
     ]
    }
   ],
   "source": [
    "pip install seaborn "
   ]
  },
  {
   "cell_type": "code",
   "execution_count": 10,
   "metadata": {},
   "outputs": [
    {
     "data": {
      "image/png": "[encoded data removed]",
      "text/plain": [
       "<Figure size 640x480 with 1 Axes>"
      ]
     },
     "metadata": {},
     "output_type": "display_data"
    },
    {
     "data": {
      "image/png": "[encoded data removed]",
      "text/plain": [
       "<Figure size 640x480 with 1 Axes>"
      ]
     },
     "metadata": {},
     "output_type": "display_data"
    },
    {
     "data": {
      "image/png": "[encoded data removed]",
      "text/plain": [
       "<Figure size 640x480 with 1 Axes>"
      ]
     },
     "metadata": {},
     "output_type": "display_data"
    },
    {
     "data": {
      "image/png": "[encoded data removed]",
      "text/plain": [
       "<Figure size 640x480 with 1 Axes>"
      ]
     },
     "metadata": {},
     "output_type": "display_data"
    },
    {
     "data": {
      "image/png": "[encoded data removed]",
      "text/plain": [
       "<Figure size 640x480 with 1 Axes>"
      ]
     },
     "metadata": {},
     "output_type": "display_data"
    },
    {
     "data": {
      "image/png": "[encoded data removed]",
      "text/plain": [
       "<Figure size 640x480 with 1 Axes>"
      ]
     },
     "metadata": {},
     "output_type": "display_data"
    }
   ],
   "source": [
    "import seaborn as sns\n",
    "import matplotlib.pyplot as plt\n",
    "\n",
    "# Plot boxpltos to check outliers in int64(numeric) columns\n",
    "int64_columns = x_cleaned.select_dtypes(include=['number']).columns\n",
    "\n",
    "for column in int64_columns:\n",
    "    sns.boxplot(x=x_cleaned[column])\n",
    "    plt.title(f'Boxplot of {column}')\n",
    "    plt.show()"
   ]
  },
  {
   "cell_type": "markdown",
   "metadata": {},
   "source": [
    "### Cheking the rows  with possible outlerts"
   ]
  },
  {
   "cell_type": "markdown",
   "metadata": {},
   "source": [
    "The graph shows that there are some values ​​>90 in working hours per week. It seems interesting, but maybe it is true. That is how we lived."
   ]
  },
  {
   "cell_type": "code",
   "execution_count": 11,
   "metadata": {},
   "outputs": [
    {
     "name": "stdout",
     "output_type": "stream",
     "text": [
      "       age         workclass  fnlwgt     education  education-num  \\\n",
      "272     50  Self-emp-not-inc   30653       Masters             14   \n",
      "935     37           Private  176900       HS-grad              9   \n",
      "1172    25           Private  404616       Masters             14   \n",
      "1887    55  Self-emp-not-inc  184425  Some-college             10   \n",
      "2920    63  Self-emp-not-inc   26904       HS-grad              9   \n",
      "...    ...               ...     ...           ...            ...   \n",
      "47050   31           Private  170513       HS-grad              9   \n",
      "47107   32         State-gov  246282     Doctorate             16   \n",
      "47376   49           Private  111282       7th-8th              4   \n",
      "47760   48           Private  250736       HS-grad              9   \n",
      "48470   41           Private  173651    Assoc-acdm             12   \n",
      "\n",
      "           marital-status        occupation   relationship   race     sex  \\\n",
      "272    Married-civ-spouse   Farming-fishing        Husband  White    Male   \n",
      "935    Married-civ-spouse      Craft-repair        Husband  White    Male   \n",
      "1172   Married-civ-spouse   Farming-fishing  Not-in-family  White    Male   \n",
      "1887   Married-civ-spouse   Farming-fishing        Husband  White    Male   \n",
      "2920   Married-civ-spouse   Farming-fishing        Husband  White    Male   \n",
      "...                   ...               ...            ...    ...     ...   \n",
      "47050            Divorced    Prof-specialty  Not-in-family  White  Female   \n",
      "47107  Married-civ-spouse    Prof-specialty        Husband  White    Male   \n",
      "47376  Married-civ-spouse    Prof-specialty        Husband  White    Male   \n",
      "47760  Married-civ-spouse  Transport-moving        Husband  Black    Male   \n",
      "48470  Married-civ-spouse    Prof-specialty        Husband  White    Male   \n",
      "\n",
      "       capital-gain  capital-loss  hours-per-week native-country  target  \n",
      "272            2407             0              98  United-States   <=50K  \n",
      "935               0             0              99  United-States    >50K  \n",
      "1172              0             0              99  United-States    >50K  \n",
      "1887              0             0              99  United-States    >50K  \n",
      "2920              0             0              98  United-States   <=50K  \n",
      "...             ...           ...             ...            ...     ...  \n",
      "47050             0             0              99  United-States  <=50K.  \n",
      "47107          2961             0              99  United-States  <=50K.  \n",
      "47376          4386             0              99  United-States   >50K.  \n",
      "47760             0             0              99  United-States  <=50K.  \n",
      "48470             0             0              99  United-States  <=50K.  \n",
      "\n",
      "[164 rows x 15 columns]\n"
     ]
    }
   ],
   "source": [
    "\n",
    "import pandas as pd\n",
    "from ucimlrepo import fetch_ucirepo\n",
    "\n",
    "# Fetch the dataset\n",
    "adult = fetch_ucirepo(id=2)\n",
    "\n",
    "# Convert data to a DataFrame\n",
    "df = pd.DataFrame(x_cleaned, columns=adult.data.feature_names)\n",
    "\n",
    "# Add target variable to the DataFrame\n",
    "df['target'] = adult.data.targets\n",
    "\n",
    "# Filter the rows where 'hours per week ' column has the value between 95 & 110 hours\n",
    "rows_with_hours_per_week = df[(df['hours-per-week'] >=95) & (df['hours-per-week'] <=110)]\n",
    "\n",
    "# Display the rows\n",
    "print(rows_with_hours_per_week)\n",
    "\n"
   ]
  },
  {
   "cell_type": "markdown",
   "metadata": {},
   "source": [
    "# 2. Data Preprocessing  \n",
    "\n"
   ]
  },
  {
   "cell_type": "markdown",
   "metadata": {},
   "source": [
    "After cleaning the data, we are going to prepare it so that the algorithm can read it. In the previous step, we identified each data type for the variable. The next step is to apply different techniques for each data type. For categorical data, we will use Encode and for numerical data, we will normalize the data."
   ]
  },
  {
   "cell_type": "markdown",
   "metadata": {},
   "source": [
    "### 2.1 Encode all categorical variables appropriately"
   ]
  },
  {
   "cell_type": "markdown",
   "metadata": {},
   "source": [
    "Let's display tghe data frame to identify the data type."
   ]
  },
  {
   "cell_type": "code",
   "execution_count": 12,
   "metadata": {},
   "outputs": [
    {
     "name": "stdout",
     "output_type": "stream",
     "text": [
      "age                int64\n",
      "workclass         object\n",
      "fnlwgt             int64\n",
      "education         object\n",
      "education-num      int64\n",
      "marital-status    object\n",
      "occupation        object\n",
      "relationship      object\n",
      "race              object\n",
      "sex               object\n",
      "capital-gain       int64\n",
      "capital-loss       int64\n",
      "hours-per-week     int64\n",
      "native-country    object\n",
      "dtype: object\n"
     ]
    }
   ],
   "source": [
    "print(x_cleaned.dtypes)"
   ]
  },
  {
   "cell_type": "markdown",
   "metadata": {},
   "source": [
    "\n",
    "To start, we need to convert the data frame into a  dictionary using the DataFrame.to_dict(orient = 'dict') the function  prepare the data frame before encoding the categorical data."
   ]
  },
  {
   "cell_type": "code",
   "execution_count": 13,
   "metadata": {},
   "outputs": [
    {
     "name": "stdout",
     "output_type": "stream",
     "text": [
      "Column: age, Data: [39, 50, 38, 53, 28]\n",
      "Column: workclass, Data: ['State-gov', 'Self-emp-not-inc', 'Private', 'Private', 'Private']\n",
      "Column: fnlwgt, Data: [77516, 83311, 215646, 234721, 338409]\n",
      "Column: education, Data: ['Bachelors', 'Bachelors', 'HS-grad', '11th', 'Bachelors']\n",
      "Column: education-num, Data: [13, 13, 9, 7, 13]\n",
      "Column: marital-status, Data: ['Never-married', 'Married-civ-spouse', 'Divorced', 'Married-civ-spouse', 'Married-civ-spouse']\n",
      "Column: occupation, Data: ['Adm-clerical', 'Exec-managerial', 'Handlers-cleaners', 'Handlers-cleaners', 'Prof-specialty']\n",
      "Column: relationship, Data: ['Not-in-family', 'Husband', 'Not-in-family', 'Husband', 'Wife']\n",
      "Column: race, Data: ['White', 'White', 'White', 'Black', 'Black']\n",
      "Column: sex, Data: ['Male', 'Male', 'Male', 'Male', 'Female']\n",
      "Column: capital-gain, Data: [2174, 0, 0, 0, 0]\n",
      "Column: capital-loss, Data: [0, 0, 0, 0, 0]\n",
      "Column: hours-per-week, Data: [40, 13, 40, 40, 40]\n",
      "Column: native-country, Data: ['United-States', 'United-States', 'United-States', 'United-States', 'Cuba']\n"
     ]
    }
   ],
   "source": [
    "import pandas as pd\n",
    "\n",
    "\n",
    "# Convert DataFrame to dictionary\n",
    "data_dict = x_cleaned.to_dict(orient='list')\n",
    "\n",
    "# Print the dictionary (or a part of it, since it's large)\n",
    "for key, value in data_dict.items():\n",
    "    print(f\"Column: {key}, Data: {value[:5]}\")  # Display first 5 values for brevity\n"
   ]
  },
  {
   "cell_type": "markdown",
   "metadata": {},
   "source": [
    "Once we have the data set contained in a dictionary, we proceed to apply One-Hot-Encoding"
   ]
  },
  {
   "cell_type": "code",
   "execution_count": 14,
   "metadata": {},
   "outputs": [
    {
     "name": "stdout",
     "output_type": "stream",
     "text": [
      "\n",
      "Encoded DataFrame:\n",
      "   age  fnlwgt  education-num  capital-gain  capital-loss  hours-per-week  \\\n",
      "0   39   77516             13          2174             0              40   \n",
      "1   50   83311             13             0             0              13   \n",
      "2   38  215646              9             0             0              40   \n",
      "3   53  234721              7             0             0              40   \n",
      "4   28  338409             13             0             0              40   \n",
      "\n",
      "   workclass_?  workclass_Federal-gov  workclass_Local-gov  \\\n",
      "0        False                  False                False   \n",
      "1        False                  False                False   \n",
      "2        False                  False                False   \n",
      "3        False                  False                False   \n",
      "4        False                  False                False   \n",
      "\n",
      "   workclass_Never-worked  ...  native-country_Portugal  \\\n",
      "0                   False  ...                    False   \n",
      "1                   False  ...                    False   \n",
      "2                   False  ...                    False   \n",
      "3                   False  ...                    False   \n",
      "4                   False  ...                    False   \n",
      "\n",
      "   native-country_Puerto-Rico  native-country_Scotland  native-country_South  \\\n",
      "0                       False                    False                 False   \n",
      "1                       False                    False                 False   \n",
      "2                       False                    False                 False   \n",
      "3                       False                    False                 False   \n",
      "4                       False                    False                 False   \n",
      "\n",
      "   native-country_Taiwan  native-country_Thailand  \\\n",
      "0                  False                    False   \n",
      "1                  False                    False   \n",
      "2                  False                    False   \n",
      "3                  False                    False   \n",
      "4                  False                    False   \n",
      "\n",
      "   native-country_Trinadad&Tobago  native-country_United-States  \\\n",
      "0                           False                          True   \n",
      "1                           False                          True   \n",
      "2                           False                          True   \n",
      "3                           False                          True   \n",
      "4                           False                         False   \n",
      "\n",
      "   native-country_Vietnam  native-country_Yugoslavia  \n",
      "0                   False                      False  \n",
      "1                   False                      False  \n",
      "2                   False                      False  \n",
      "3                   False                      False  \n",
      "4                   False                      False  \n",
      "\n",
      "[5 rows x 108 columns]\n",
      "\n",
      "Encoded Data Dictionary:\n",
      "Column: age, Data: [39, 50, 38, 53, 28]\n",
      "Column: fnlwgt, Data: [77516, 83311, 215646, 234721, 338409]\n",
      "Column: education-num, Data: [13, 13, 9, 7, 13]\n",
      "Column: capital-gain, Data: [2174, 0, 0, 0, 0]\n",
      "Column: capital-loss, Data: [0, 0, 0, 0, 0]\n",
      "Column: hours-per-week, Data: [40, 13, 40, 40, 40]\n",
      "Column: workclass_?, Data: [False, False, False, False, False]\n",
      "Column: workclass_Federal-gov, Data: [False, False, False, False, False]\n",
      "Column: workclass_Local-gov, Data: [False, False, False, False, False]\n",
      "Column: workclass_Never-worked, Data: [False, False, False, False, False]\n",
      "Column: workclass_Private, Data: [False, False, True, True, True]\n",
      "Column: workclass_Self-emp-inc, Data: [False, False, False, False, False]\n",
      "Column: workclass_Self-emp-not-inc, Data: [False, True, False, False, False]\n",
      "Column: workclass_State-gov, Data: [True, False, False, False, False]\n",
      "Column: workclass_Without-pay, Data: [False, False, False, False, False]\n",
      "Column: education_10th, Data: [False, False, False, False, False]\n",
      "Column: education_11th, Data: [False, False, False, True, False]\n",
      "Column: education_12th, Data: [False, False, False, False, False]\n",
      "Column: education_1st-4th, Data: [False, False, False, False, False]\n",
      "Column: education_5th-6th, Data: [False, False, False, False, False]\n",
      "Column: education_7th-8th, Data: [False, False, False, False, False]\n",
      "Column: education_9th, Data: [False, False, False, False, False]\n",
      "Column: education_Assoc-acdm, Data: [False, False, False, False, False]\n",
      "Column: education_Assoc-voc, Data: [False, False, False, False, False]\n",
      "Column: education_Bachelors, Data: [True, True, False, False, True]\n",
      "Column: education_Doctorate, Data: [False, False, False, False, False]\n",
      "Column: education_HS-grad, Data: [False, False, True, False, False]\n",
      "Column: education_Masters, Data: [False, False, False, False, False]\n",
      "Column: education_Preschool, Data: [False, False, False, False, False]\n",
      "Column: education_Prof-school, Data: [False, False, False, False, False]\n",
      "Column: education_Some-college, Data: [False, False, False, False, False]\n",
      "Column: marital-status_Divorced, Data: [False, False, True, False, False]\n",
      "Column: marital-status_Married-AF-spouse, Data: [False, False, False, False, False]\n",
      "Column: marital-status_Married-civ-spouse, Data: [False, True, False, True, True]\n",
      "Column: marital-status_Married-spouse-absent, Data: [False, False, False, False, False]\n",
      "Column: marital-status_Never-married, Data: [True, False, False, False, False]\n",
      "Column: marital-status_Separated, Data: [False, False, False, False, False]\n",
      "Column: marital-status_Widowed, Data: [False, False, False, False, False]\n",
      "Column: occupation_?, Data: [False, False, False, False, False]\n",
      "Column: occupation_Adm-clerical, Data: [True, False, False, False, False]\n",
      "Column: occupation_Armed-Forces, Data: [False, False, False, False, False]\n",
      "Column: occupation_Craft-repair, Data: [False, False, False, False, False]\n",
      "Column: occupation_Exec-managerial, Data: [False, True, False, False, False]\n",
      "Column: occupation_Farming-fishing, Data: [False, False, False, False, False]\n",
      "Column: occupation_Handlers-cleaners, Data: [False, False, True, True, False]\n",
      "Column: occupation_Machine-op-inspct, Data: [False, False, False, False, False]\n",
      "Column: occupation_Other-service, Data: [False, False, False, False, False]\n",
      "Column: occupation_Priv-house-serv, Data: [False, False, False, False, False]\n",
      "Column: occupation_Prof-specialty, Data: [False, False, False, False, True]\n",
      "Column: occupation_Protective-serv, Data: [False, False, False, False, False]\n",
      "Column: occupation_Sales, Data: [False, False, False, False, False]\n",
      "Column: occupation_Tech-support, Data: [False, False, False, False, False]\n",
      "Column: occupation_Transport-moving, Data: [False, False, False, False, False]\n",
      "Column: relationship_Husband, Data: [False, True, False, True, False]\n",
      "Column: relationship_Not-in-family, Data: [True, False, True, False, False]\n",
      "Column: relationship_Other-relative, Data: [False, False, False, False, False]\n",
      "Column: relationship_Own-child, Data: [False, False, False, False, False]\n",
      "Column: relationship_Unmarried, Data: [False, False, False, False, False]\n",
      "Column: relationship_Wife, Data: [False, False, False, False, True]\n",
      "Column: race_Amer-Indian-Eskimo, Data: [False, False, False, False, False]\n",
      "Column: race_Asian-Pac-Islander, Data: [False, False, False, False, False]\n",
      "Column: race_Black, Data: [False, False, False, True, True]\n",
      "Column: race_Other, Data: [False, False, False, False, False]\n",
      "Column: race_White, Data: [True, True, True, False, False]\n",
      "Column: sex_Female, Data: [False, False, False, False, True]\n",
      "Column: sex_Male, Data: [True, True, True, True, False]\n",
      "Column: native-country_?, Data: [False, False, False, False, False]\n",
      "Column: native-country_Cambodia, Data: [False, False, False, False, False]\n",
      "Column: native-country_Canada, Data: [False, False, False, False, False]\n",
      "Column: native-country_China, Data: [False, False, False, False, False]\n",
      "Column: native-country_Columbia, Data: [False, False, False, False, False]\n",
      "Column: native-country_Cuba, Data: [False, False, False, False, True]\n",
      "Column: native-country_Dominican-Republic, Data: [False, False, False, False, False]\n",
      "Column: native-country_Ecuador, Data: [False, False, False, False, False]\n",
      "Column: native-country_El-Salvador, Data: [False, False, False, False, False]\n",
      "Column: native-country_England, Data: [False, False, False, False, False]\n",
      "Column: native-country_France, Data: [False, False, False, False, False]\n",
      "Column: native-country_Germany, Data: [False, False, False, False, False]\n",
      "Column: native-country_Greece, Data: [False, False, False, False, False]\n",
      "Column: native-country_Guatemala, Data: [False, False, False, False, False]\n",
      "Column: native-country_Haiti, Data: [False, False, False, False, False]\n",
      "Column: native-country_Holand-Netherlands, Data: [False, False, False, False, False]\n",
      "Column: native-country_Honduras, Data: [False, False, False, False, False]\n",
      "Column: native-country_Hong, Data: [False, False, False, False, False]\n",
      "Column: native-country_Hungary, Data: [False, False, False, False, False]\n",
      "Column: native-country_India, Data: [False, False, False, False, False]\n",
      "Column: native-country_Iran, Data: [False, False, False, False, False]\n",
      "Column: native-country_Ireland, Data: [False, False, False, False, False]\n",
      "Column: native-country_Italy, Data: [False, False, False, False, False]\n",
      "Column: native-country_Jamaica, Data: [False, False, False, False, False]\n",
      "Column: native-country_Japan, Data: [False, False, False, False, False]\n",
      "Column: native-country_Laos, Data: [False, False, False, False, False]\n",
      "Column: native-country_Mexico, Data: [False, False, False, False, False]\n",
      "Column: native-country_Nicaragua, Data: [False, False, False, False, False]\n",
      "Column: native-country_Outlying-US(Guam-USVI-etc), Data: [False, False, False, False, False]\n",
      "Column: native-country_Peru, Data: [False, False, False, False, False]\n",
      "Column: native-country_Philippines, Data: [False, False, False, False, False]\n",
      "Column: native-country_Poland, Data: [False, False, False, False, False]\n",
      "Column: native-country_Portugal, Data: [False, False, False, False, False]\n",
      "Column: native-country_Puerto-Rico, Data: [False, False, False, False, False]\n",
      "Column: native-country_Scotland, Data: [False, False, False, False, False]\n",
      "Column: native-country_South, Data: [False, False, False, False, False]\n",
      "Column: native-country_Taiwan, Data: [False, False, False, False, False]\n",
      "Column: native-country_Thailand, Data: [False, False, False, False, False]\n",
      "Column: native-country_Trinadad&Tobago, Data: [False, False, False, False, False]\n",
      "Column: native-country_United-States, Data: [True, True, True, True, False]\n",
      "Column: native-country_Vietnam, Data: [False, False, False, False, False]\n",
      "Column: native-country_Yugoslavia, Data: [False, False, False, False, False]\n"
     ]
    }
   ],
   "source": [
    "import pandas as pd\n",
    "\n",
    "\n",
    "# Convert data_dict back to a DataFrame\n",
    "x_cleaned_df = pd.DataFrame(data_dict)\n",
    "\n",
    "#Identify the categorical columns\n",
    "\n",
    "categorical_columns = ['workclass', 'education', 'marital-status',\n",
    "                       'occupation', 'relationship', 'race',\n",
    "                       'sex', 'native-country']\n",
    "\n",
    "# Apply One-Hot Encoding to the 'workclass' column\n",
    "x_encoded = pd.get_dummies(x_cleaned_df, columns=categorical_columns, prefix=categorical_columns)\n",
    "\n",
    "# If needed, convert the encoded DataFrame back to a dictionary\n",
    "data_dict_encoded = x_encoded.to_dict(orient='list')\n",
    "\n",
    "# Print a portion of the encoded DataFrame and dictionary for verification\n",
    "print(\"\\nEncoded DataFrame:\")\n",
    "print(x_encoded.head())  # Display the first few rows of the DataFrame\n",
    "\n",
    "print(\"\\nEncoded Data Dictionary:\")\n",
    "for key, value in data_dict_encoded.items():\n",
    "    print(f\"Column: {key}, Data: {value[:5]}\")  # Display first 5 values for brevity\n"
   ]
  },
  {
   "cell_type": "markdown",
   "metadata": {},
   "source": [
    "### 2.2 Normalise continuous variables if necessary "
   ]
  },
  {
   "cell_type": "markdown",
   "metadata": {},
   "source": [
    "Now, we need to normalize the data, which means transforming the values ​​into a similar scale."
   ]
  },
  {
   "cell_type": "code",
   "execution_count": 15,
   "metadata": {},
   "outputs": [
    {
     "name": "stdout",
     "output_type": "stream",
     "text": [
      "\n",
      "Encoded and Normalized DataFrame:\n",
      "        age    fnlwgt  education-num  capital-gain  capital-loss  \\\n",
      "0  0.301370  0.044131       0.800000       0.02174           0.0   \n",
      "1  0.452055  0.048052       0.800000       0.00000           0.0   \n",
      "2  0.287671  0.137581       0.533333       0.00000           0.0   \n",
      "3  0.493151  0.150486       0.400000       0.00000           0.0   \n",
      "4  0.150685  0.220635       0.800000       0.00000           0.0   \n",
      "\n",
      "   hours-per-week  workclass_?  workclass_Federal-gov  workclass_Local-gov  \\\n",
      "0        0.397959        False                  False                False   \n",
      "1        0.122449        False                  False                False   \n",
      "2        0.397959        False                  False                False   \n",
      "3        0.397959        False                  False                False   \n",
      "4        0.397959        False                  False                False   \n",
      "\n",
      "   workclass_Never-worked  ...  native-country_Portugal  \\\n",
      "0                   False  ...                    False   \n",
      "1                   False  ...                    False   \n",
      "2                   False  ...                    False   \n",
      "3                   False  ...                    False   \n",
      "4                   False  ...                    False   \n",
      "\n",
      "   native-country_Puerto-Rico  native-country_Scotland  native-country_South  \\\n",
      "0                       False                    False                 False   \n",
      "1                       False                    False                 False   \n",
      "2                       False                    False                 False   \n",
      "3                       False                    False                 False   \n",
      "4                       False                    False                 False   \n",
      "\n",
      "   native-country_Taiwan  native-country_Thailand  \\\n",
      "0                  False                    False   \n",
      "1                  False                    False   \n",
      "2                  False                    False   \n",
      "3                  False                    False   \n",
      "4                  False                    False   \n",
      "\n",
      "   native-country_Trinadad&Tobago  native-country_United-States  \\\n",
      "0                           False                          True   \n",
      "1                           False                          True   \n",
      "2                           False                          True   \n",
      "3                           False                          True   \n",
      "4                           False                         False   \n",
      "\n",
      "   native-country_Vietnam  native-country_Yugoslavia  \n",
      "0                   False                      False  \n",
      "1                   False                      False  \n",
      "2                   False                      False  \n",
      "3                   False                      False  \n",
      "4                   False                      False  \n",
      "\n",
      "[5 rows x 108 columns]\n",
      "\n",
      "Encoded and Normalized Data Dictionary:\n",
      "Column: age, Data: [0.30136986301369856, 0.4520547945205479, 0.2876712328767123, 0.4931506849315069, 0.1506849315068493]\n",
      "Column: fnlwgt, Data: [0.04413120765299046, 0.04805174157626436, 0.13758131133233883, 0.1504862612178349, 0.2206350656072092]\n",
      "Column: education-num, Data: [0.8, 0.8, 0.5333333333333333, 0.4, 0.8]\n",
      "Column: capital-gain, Data: [0.021740217402174022, 0.0, 0.0, 0.0, 0.0]\n",
      "Column: capital-loss, Data: [0.0, 0.0, 0.0, 0.0, 0.0]\n",
      "Column: hours-per-week, Data: [0.39795918367346933, 0.12244897959183672, 0.39795918367346933, 0.39795918367346933, 0.39795918367346933]\n",
      "Column: workclass_?, Data: [False, False, False, False, False]\n",
      "Column: workclass_Federal-gov, Data: [False, False, False, False, False]\n",
      "Column: workclass_Local-gov, Data: [False, False, False, False, False]\n",
      "Column: workclass_Never-worked, Data: [False, False, False, False, False]\n",
      "Column: workclass_Private, Data: [False, False, True, True, True]\n",
      "Column: workclass_Self-emp-inc, Data: [False, False, False, False, False]\n",
      "Column: workclass_Self-emp-not-inc, Data: [False, True, False, False, False]\n",
      "Column: workclass_State-gov, Data: [True, False, False, False, False]\n",
      "Column: workclass_Without-pay, Data: [False, False, False, False, False]\n",
      "Column: education_10th, Data: [False, False, False, False, False]\n",
      "Column: education_11th, Data: [False, False, False, True, False]\n",
      "Column: education_12th, Data: [False, False, False, False, False]\n",
      "Column: education_1st-4th, Data: [False, False, False, False, False]\n",
      "Column: education_5th-6th, Data: [False, False, False, False, False]\n",
      "Column: education_7th-8th, Data: [False, False, False, False, False]\n",
      "Column: education_9th, Data: [False, False, False, False, False]\n",
      "Column: education_Assoc-acdm, Data: [False, False, False, False, False]\n",
      "Column: education_Assoc-voc, Data: [False, False, False, False, False]\n",
      "Column: education_Bachelors, Data: [True, True, False, False, True]\n",
      "Column: education_Doctorate, Data: [False, False, False, False, False]\n",
      "Column: education_HS-grad, Data: [False, False, True, False, False]\n",
      "Column: education_Masters, Data: [False, False, False, False, False]\n",
      "Column: education_Preschool, Data: [False, False, False, False, False]\n",
      "Column: education_Prof-school, Data: [False, False, False, False, False]\n",
      "Column: education_Some-college, Data: [False, False, False, False, False]\n",
      "Column: marital-status_Divorced, Data: [False, False, True, False, False]\n",
      "Column: marital-status_Married-AF-spouse, Data: [False, False, False, False, False]\n",
      "Column: marital-status_Married-civ-spouse, Data: [False, True, False, True, True]\n",
      "Column: marital-status_Married-spouse-absent, Data: [False, False, False, False, False]\n",
      "Column: marital-status_Never-married, Data: [True, False, False, False, False]\n",
      "Column: marital-status_Separated, Data: [False, False, False, False, False]\n",
      "Column: marital-status_Widowed, Data: [False, False, False, False, False]\n",
      "Column: occupation_?, Data: [False, False, False, False, False]\n",
      "Column: occupation_Adm-clerical, Data: [True, False, False, False, False]\n",
      "Column: occupation_Armed-Forces, Data: [False, False, False, False, False]\n",
      "Column: occupation_Craft-repair, Data: [False, False, False, False, False]\n",
      "Column: occupation_Exec-managerial, Data: [False, True, False, False, False]\n",
      "Column: occupation_Farming-fishing, Data: [False, False, False, False, False]\n",
      "Column: occupation_Handlers-cleaners, Data: [False, False, True, True, False]\n",
      "Column: occupation_Machine-op-inspct, Data: [False, False, False, False, False]\n",
      "Column: occupation_Other-service, Data: [False, False, False, False, False]\n",
      "Column: occupation_Priv-house-serv, Data: [False, False, False, False, False]\n",
      "Column: occupation_Prof-specialty, Data: [False, False, False, False, True]\n",
      "Column: occupation_Protective-serv, Data: [False, False, False, False, False]\n",
      "Column: occupation_Sales, Data: [False, False, False, False, False]\n",
      "Column: occupation_Tech-support, Data: [False, False, False, False, False]\n",
      "Column: occupation_Transport-moving, Data: [False, False, False, False, False]\n",
      "Column: relationship_Husband, Data: [False, True, False, True, False]\n",
      "Column: relationship_Not-in-family, Data: [True, False, True, False, False]\n",
      "Column: relationship_Other-relative, Data: [False, False, False, False, False]\n",
      "Column: relationship_Own-child, Data: [False, False, False, False, False]\n",
      "Column: relationship_Unmarried, Data: [False, False, False, False, False]\n",
      "Column: relationship_Wife, Data: [False, False, False, False, True]\n",
      "Column: race_Amer-Indian-Eskimo, Data: [False, False, False, False, False]\n",
      "Column: race_Asian-Pac-Islander, Data: [False, False, False, False, False]\n",
      "Column: race_Black, Data: [False, False, False, True, True]\n",
      "Column: race_Other, Data: [False, False, False, False, False]\n",
      "Column: race_White, Data: [True, True, True, False, False]\n",
      "Column: sex_Female, Data: [False, False, False, False, True]\n",
      "Column: sex_Male, Data: [True, True, True, True, False]\n",
      "Column: native-country_?, Data: [False, False, False, False, False]\n",
      "Column: native-country_Cambodia, Data: [False, False, False, False, False]\n",
      "Column: native-country_Canada, Data: [False, False, False, False, False]\n",
      "Column: native-country_China, Data: [False, False, False, False, False]\n",
      "Column: native-country_Columbia, Data: [False, False, False, False, False]\n",
      "Column: native-country_Cuba, Data: [False, False, False, False, True]\n",
      "Column: native-country_Dominican-Republic, Data: [False, False, False, False, False]\n",
      "Column: native-country_Ecuador, Data: [False, False, False, False, False]\n",
      "Column: native-country_El-Salvador, Data: [False, False, False, False, False]\n",
      "Column: native-country_England, Data: [False, False, False, False, False]\n",
      "Column: native-country_France, Data: [False, False, False, False, False]\n",
      "Column: native-country_Germany, Data: [False, False, False, False, False]\n",
      "Column: native-country_Greece, Data: [False, False, False, False, False]\n",
      "Column: native-country_Guatemala, Data: [False, False, False, False, False]\n",
      "Column: native-country_Haiti, Data: [False, False, False, False, False]\n",
      "Column: native-country_Holand-Netherlands, Data: [False, False, False, False, False]\n",
      "Column: native-country_Honduras, Data: [False, False, False, False, False]\n",
      "Column: native-country_Hong, Data: [False, False, False, False, False]\n",
      "Column: native-country_Hungary, Data: [False, False, False, False, False]\n",
      "Column: native-country_India, Data: [False, False, False, False, False]\n",
      "Column: native-country_Iran, Data: [False, False, False, False, False]\n",
      "Column: native-country_Ireland, Data: [False, False, False, False, False]\n",
      "Column: native-country_Italy, Data: [False, False, False, False, False]\n",
      "Column: native-country_Jamaica, Data: [False, False, False, False, False]\n",
      "Column: native-country_Japan, Data: [False, False, False, False, False]\n",
      "Column: native-country_Laos, Data: [False, False, False, False, False]\n",
      "Column: native-country_Mexico, Data: [False, False, False, False, False]\n",
      "Column: native-country_Nicaragua, Data: [False, False, False, False, False]\n",
      "Column: native-country_Outlying-US(Guam-USVI-etc), Data: [False, False, False, False, False]\n",
      "Column: native-country_Peru, Data: [False, False, False, False, False]\n",
      "Column: native-country_Philippines, Data: [False, False, False, False, False]\n",
      "Column: native-country_Poland, Data: [False, False, False, False, False]\n",
      "Column: native-country_Portugal, Data: [False, False, False, False, False]\n",
      "Column: native-country_Puerto-Rico, Data: [False, False, False, False, False]\n",
      "Column: native-country_Scotland, Data: [False, False, False, False, False]\n",
      "Column: native-country_South, Data: [False, False, False, False, False]\n",
      "Column: native-country_Taiwan, Data: [False, False, False, False, False]\n",
      "Column: native-country_Thailand, Data: [False, False, False, False, False]\n",
      "Column: native-country_Trinadad&Tobago, Data: [False, False, False, False, False]\n",
      "Column: native-country_United-States, Data: [True, True, True, True, False]\n",
      "Column: native-country_Vietnam, Data: [False, False, False, False, False]\n",
      "Column: native-country_Yugoslavia, Data: [False, False, False, False, False]\n"
     ]
    }
   ],
   "source": [
    "import pandas as pd\n",
    "from sklearn.preprocessing import MinMaxScaler, StandardScaler\n",
    "\n",
    "# Convert data_dict back to a DataFrame\n",
    "x_cleaned_df = pd.DataFrame(data_dict)\n",
    "\n",
    "# Identify the categorical columns\n",
    "categorical_columns = ['workclass', 'education', 'marital-status',\n",
    "                       'occupation', 'relationship', 'race',\n",
    "                       'sex', 'native-country']\n",
    "\n",
    "# Apply One-Hot Encoding to the categorical columns\n",
    "x_encoded = pd.get_dummies(x_cleaned_df, columns=categorical_columns, prefix=categorical_columns)\n",
    "\n",
    "# Identify the continuous (numerical) columns\n",
    "continuous_columns = ['age', 'fnlwgt', 'education-num', 'capital-gain', 'capital-loss', 'hours-per-week']\n",
    "\n",
    "# Choose the normalization method: Min-Max Scaling  Normalization\n",
    "\n",
    "scaler = MinMaxScaler()\n",
    "\n",
    "# Normalize the continuous columns\n",
    "x_encoded[continuous_columns] = scaler.fit_transform(x_encoded[continuous_columns])\n",
    "\n",
    "# If needed, convert the encoded and normalized DataFrame back to a dictionary\n",
    "data_dict_encoded = x_encoded.to_dict(orient='list')\n",
    "\n",
    "# Print a portion of the encoded and normalized DataFrame and dictionary for verification\n",
    "print(\"\\nEncoded and Normalized DataFrame:\")\n",
    "print(x_encoded.head())  # Display the first few rows of the DataFrame\n",
    "\n",
    "print(\"\\nEncoded and Normalized Data Dictionary:\")\n",
    "for key, value in data_dict_encoded.items():\n",
    "    print(f\"Column: {key}, Data: {value[:5]}\")  # Display first 5 values for brevity\n"
   ]
  },
  {
   "cell_type": "markdown",
   "metadata": {},
   "source": [
    "### 2.3 Split the dataset into training and testing sets"
   ]
  },
  {
   "cell_type": "markdown",
   "metadata": {},
   "source": [
    "The training data  set is used to train the model implemented and the test data are commonly used to identify different result and the compare with the model performace. (Gillis, n.d.) "
   ]
  },
  {
   "cell_type": "markdown",
   "metadata": {},
   "source": [
    "The module sklearn.model_selection.train_test_split() Split arrays into random train and test subsets.(Train_test_split — Scikit-Learn 1.5.1 Documentation, n.d.)"
   ]
  },
  {
   "cell_type": "code",
   "execution_count": 16,
   "metadata": {},
   "outputs": [],
   "source": [
    "import pandas as pd\n",
    "from sklearn.model_selection import train_test_split\n",
    "from sklearn.preprocessing import MinMaxScaler\n",
    "\n"
   ]
  },
  {
   "cell_type": "code",
   "execution_count": 17,
   "metadata": {},
   "outputs": [],
   "source": [
    "# Create a variable y and x for the clean data that is normalized and encoded.\n",
    "y = y_cleaned\n",
    "x= x_encoded"
   ]
  },
  {
   "cell_type": "code",
   "execution_count": 18,
   "metadata": {},
   "outputs": [],
   "source": [
    "# Split the dataset into training and testing sets\n",
    "X_train, X_test, y_train, y_test = train_test_split(x, y, test_size=0.2, random_state=42)"
   ]
  },
  {
   "cell_type": "code",
   "execution_count": 19,
   "metadata": {},
   "outputs": [
    {
     "name": "stdout",
     "output_type": "stream",
     "text": [
      "Training features shape: (39030, 108)\n",
      "Testing features shape: (9758, 108)\n",
      "Training target shape: (39030, 1)\n",
      "Testing target shape: (9758, 1)\n"
     ]
    }
   ],
   "source": [
    "# Display the shapes of the resulting datasets\n",
    "print(\"Training features shape:\", X_train.shape)\n",
    "print(\"Testing features shape:\", X_test.shape)\n",
    "print(\"Training target shape:\", y_train.shape)\n",
    "print(\"Testing target shape:\", y_test.shape)"
   ]
  },
  {
   "cell_type": "markdown",
   "metadata": {},
   "source": [
    "## 3. Model Selection and Training \n",
    " "
   ]
  },
  {
   "cell_type": "markdown",
   "metadata": {},
   "source": [
    "The classification models that  we will use for this task are logistic regression and support vector Machine.For optimization grid search approach will be used for the model and for evaluate the best performing model will be based on its accuracy."
   ]
  },
  {
   "cell_type": "markdown",
   "metadata": {},
   "source": [
    "## 3.1 Logistic Regression model"
   ]
  },
  {
   "cell_type": "code",
   "execution_count": 20,
   "metadata": {},
   "outputs": [
    {
     "name": "stdout",
     "output_type": "stream",
     "text": [
      "Fitting 5 folds for each of 40 candidates, totalling 200 fits\n"
     ]
    },
    {
     "name": "stderr",
     "output_type": "stream",
     "text": [
      "c:\\Users\\harol\\.virtualenvs\\Ejecutables-sNxlcJa2\\Lib\\site-packages\\sklearn\\model_selection\\_validation.py:540: FitFailedWarning: \n",
      "100 fits failed out of a total of 200.\n",
      "The score on these train-test partitions for these parameters will be set to nan.\n",
      "If these failures are not expected, you can try to debug them by setting error_score='raise'.\n",
      "\n",
      "Below are more details about the failures:\n",
      "--------------------------------------------------------------------------------\n",
      "25 fits failed with the following error:\n",
      "Traceback (most recent call last):\n",
      "  File \"c:\\Users\\harol\\.virtualenvs\\Ejecutables-sNxlcJa2\\Lib\\site-packages\\sklearn\\model_selection\\_validation.py\", line 888, in _fit_and_score\n",
      "    estimator.fit(X_train, y_train, **fit_params)\n",
      "  File \"c:\\Users\\harol\\.virtualenvs\\Ejecutables-sNxlcJa2\\Lib\\site-packages\\sklearn\\base.py\", line 1473, in wrapper\n",
      "    return fit_method(estimator, *args, **kwargs)\n",
      "           ^^^^^^^^^^^^^^^^^^^^^^^^^^^^^^^^^^^^^^\n",
      "  File \"c:\\Users\\harol\\.virtualenvs\\Ejecutables-sNxlcJa2\\Lib\\site-packages\\sklearn\\linear_model\\_logistic.py\", line 1194, in fit\n",
      "    solver = _check_solver(self.solver, self.penalty, self.dual)\n",
      "             ^^^^^^^^^^^^^^^^^^^^^^^^^^^^^^^^^^^^^^^^^^^^^^^^^^^\n",
      "  File \"c:\\Users\\harol\\.virtualenvs\\Ejecutables-sNxlcJa2\\Lib\\site-packages\\sklearn\\linear_model\\_logistic.py\", line 75, in _check_solver\n",
      "    raise ValueError(\n",
      "ValueError: Only 'saga' solver supports elasticnet penalty, got solver=liblinear.\n",
      "\n",
      "--------------------------------------------------------------------------------\n",
      "25 fits failed with the following error:\n",
      "Traceback (most recent call last):\n",
      "  File \"c:\\Users\\harol\\.virtualenvs\\Ejecutables-sNxlcJa2\\Lib\\site-packages\\sklearn\\model_selection\\_validation.py\", line 888, in _fit_and_score\n",
      "    estimator.fit(X_train, y_train, **fit_params)\n",
      "  File \"c:\\Users\\harol\\.virtualenvs\\Ejecutables-sNxlcJa2\\Lib\\site-packages\\sklearn\\base.py\", line 1473, in wrapper\n",
      "    return fit_method(estimator, *args, **kwargs)\n",
      "           ^^^^^^^^^^^^^^^^^^^^^^^^^^^^^^^^^^^^^^\n",
      "  File \"c:\\Users\\harol\\.virtualenvs\\Ejecutables-sNxlcJa2\\Lib\\site-packages\\sklearn\\linear_model\\_logistic.py\", line 1204, in fit\n",
      "    raise ValueError(\"l1_ratio must be specified when penalty is elasticnet.\")\n",
      "ValueError: l1_ratio must be specified when penalty is elasticnet.\n",
      "\n",
      "--------------------------------------------------------------------------------\n",
      "15 fits failed with the following error:\n",
      "Traceback (most recent call last):\n",
      "  File \"c:\\Users\\harol\\.virtualenvs\\Ejecutables-sNxlcJa2\\Lib\\site-packages\\sklearn\\model_selection\\_validation.py\", line 888, in _fit_and_score\n",
      "    estimator.fit(X_train, y_train, **fit_params)\n",
      "  File \"c:\\Users\\harol\\.virtualenvs\\Ejecutables-sNxlcJa2\\Lib\\site-packages\\sklearn\\base.py\", line 1466, in wrapper\n",
      "    estimator._validate_params()\n",
      "  File \"c:\\Users\\harol\\.virtualenvs\\Ejecutables-sNxlcJa2\\Lib\\site-packages\\sklearn\\base.py\", line 666, in _validate_params\n",
      "    validate_parameter_constraints(\n",
      "  File \"c:\\Users\\harol\\.virtualenvs\\Ejecutables-sNxlcJa2\\Lib\\site-packages\\sklearn\\utils\\_param_validation.py\", line 95, in validate_parameter_constraints\n",
      "    raise InvalidParameterError(\n",
      "sklearn.utils._param_validation.InvalidParameterError: The 'penalty' parameter of LogisticRegression must be a str among {'elasticnet', 'l2', 'l1'} or None. Got 'none' instead.\n",
      "\n",
      "--------------------------------------------------------------------------------\n",
      "3 fits failed with the following error:\n",
      "Traceback (most recent call last):\n",
      "  File \"c:\\Users\\harol\\.virtualenvs\\Ejecutables-sNxlcJa2\\Lib\\site-packages\\sklearn\\model_selection\\_validation.py\", line 888, in _fit_and_score\n",
      "    estimator.fit(X_train, y_train, **fit_params)\n",
      "  File \"c:\\Users\\harol\\.virtualenvs\\Ejecutables-sNxlcJa2\\Lib\\site-packages\\sklearn\\base.py\", line 1466, in wrapper\n",
      "    estimator._validate_params()\n",
      "  File \"c:\\Users\\harol\\.virtualenvs\\Ejecutables-sNxlcJa2\\Lib\\site-packages\\sklearn\\base.py\", line 666, in _validate_params\n",
      "    validate_parameter_constraints(\n",
      "  File \"c:\\Users\\harol\\.virtualenvs\\Ejecutables-sNxlcJa2\\Lib\\site-packages\\sklearn\\utils\\_param_validation.py\", line 95, in validate_parameter_constraints\n",
      "    raise InvalidParameterError(\n",
      "sklearn.utils._param_validation.InvalidParameterError: The 'penalty' parameter of LogisticRegression must be a str among {'l2', 'l1', 'elasticnet'} or None. Got 'none' instead.\n",
      "\n",
      "--------------------------------------------------------------------------------\n",
      "22 fits failed with the following error:\n",
      "Traceback (most recent call last):\n",
      "  File \"c:\\Users\\harol\\.virtualenvs\\Ejecutables-sNxlcJa2\\Lib\\site-packages\\sklearn\\model_selection\\_validation.py\", line 888, in _fit_and_score\n",
      "    estimator.fit(X_train, y_train, **fit_params)\n",
      "  File \"c:\\Users\\harol\\.virtualenvs\\Ejecutables-sNxlcJa2\\Lib\\site-packages\\sklearn\\base.py\", line 1466, in wrapper\n",
      "    estimator._validate_params()\n",
      "  File \"c:\\Users\\harol\\.virtualenvs\\Ejecutables-sNxlcJa2\\Lib\\site-packages\\sklearn\\base.py\", line 666, in _validate_params\n",
      "    validate_parameter_constraints(\n",
      "  File \"c:\\Users\\harol\\.virtualenvs\\Ejecutables-sNxlcJa2\\Lib\\site-packages\\sklearn\\utils\\_param_validation.py\", line 95, in validate_parameter_constraints\n",
      "    raise InvalidParameterError(\n",
      "sklearn.utils._param_validation.InvalidParameterError: The 'penalty' parameter of LogisticRegression must be a str among {'l2', 'elasticnet', 'l1'} or None. Got 'none' instead.\n",
      "\n",
      "--------------------------------------------------------------------------------\n",
      "10 fits failed with the following error:\n",
      "Traceback (most recent call last):\n",
      "  File \"c:\\Users\\harol\\.virtualenvs\\Ejecutables-sNxlcJa2\\Lib\\site-packages\\sklearn\\model_selection\\_validation.py\", line 888, in _fit_and_score\n",
      "    estimator.fit(X_train, y_train, **fit_params)\n",
      "  File \"c:\\Users\\harol\\.virtualenvs\\Ejecutables-sNxlcJa2\\Lib\\site-packages\\sklearn\\base.py\", line 1466, in wrapper\n",
      "    estimator._validate_params()\n",
      "  File \"c:\\Users\\harol\\.virtualenvs\\Ejecutables-sNxlcJa2\\Lib\\site-packages\\sklearn\\base.py\", line 666, in _validate_params\n",
      "    validate_parameter_constraints(\n",
      "  File \"c:\\Users\\harol\\.virtualenvs\\Ejecutables-sNxlcJa2\\Lib\\site-packages\\sklearn\\utils\\_param_validation.py\", line 95, in validate_parameter_constraints\n",
      "    raise InvalidParameterError(\n",
      "sklearn.utils._param_validation.InvalidParameterError: The 'penalty' parameter of LogisticRegression must be a str among {'elasticnet', 'l1', 'l2'} or None. Got 'none' instead.\n",
      "\n",
      "  warnings.warn(some_fits_failed_message, FitFailedWarning)\n",
      "c:\\Users\\harol\\.virtualenvs\\Ejecutables-sNxlcJa2\\Lib\\site-packages\\sklearn\\model_selection\\_search.py:1102: UserWarning: One or more of the test scores are non-finite: [0.55073021 0.55654625 0.56054317 0.56290033        nan        nan\n",
      "        nan        nan 0.56863951 0.57468614 0.56617986 0.57063797\n",
      "        nan        nan        nan        nan 0.5707917  0.57658212\n",
      " 0.56871637 0.57553164        nan        nan        nan        nan\n",
      " 0.57035614 0.57586472 0.56986933 0.57581348        nan        nan\n",
      "        nan        nan 0.57030489 0.57578786 0.57027927 0.57571099\n",
      "        nan        nan        nan        nan]\n",
      "  warnings.warn(\n",
      "c:\\Users\\harol\\.virtualenvs\\Ejecutables-sNxlcJa2\\Lib\\site-packages\\sklearn\\utils\\validation.py:1339: DataConversionWarning: A column-vector y was passed when a 1d array was expected. Please change the shape of y to (n_samples, ), for example using ravel().\n",
      "  y = column_or_1d(y, warn=True)\n"
     ]
    },
    {
     "name": "stdout",
     "output_type": "stream",
     "text": [
      "Best parameters found: {'C': 1, 'penalty': 'l1', 'solver': 'saga'}\n",
      "Accuracy: 0.5692764910842386\n",
      "\n",
      "Classification Report:\n",
      "              precision    recall  f1-score   support\n",
      "\n",
      "       <=50K       0.59      0.91      0.72      4877\n",
      "      <=50K.       0.54      0.06      0.11      2486\n",
      "        >50K       0.49      0.60      0.54      1612\n",
      "       >50K.       0.00      0.00      0.00       783\n",
      "\n",
      "    accuracy                           0.57      9758\n",
      "   macro avg       0.41      0.39      0.34      9758\n",
      "weighted avg       0.51      0.57      0.48      9758\n",
      "\n",
      "\n",
      "Confusion Matrix:\n",
      "[[4438   91  347    1]\n",
      " [2151  156  178    1]\n",
      " [ 627   19  961    5]\n",
      " [ 268   22  493    0]]\n"
     ]
    }
   ],
   "source": [
    "import pandas as pd\n",
    "from sklearn.model_selection import train_test_split, GridSearchCV\n",
    "from sklearn.preprocessing import MinMaxScaler\n",
    "from sklearn.linear_model import LogisticRegression\n",
    "from sklearn.metrics import accuracy_score, classification_report, confusion_matrix\n",
    "\n",
    "# Initialize the Logistic Regression model\n",
    "logistic_model = LogisticRegression(random_state=42, max_iter=1000)\n",
    "\n",
    "# Define the hyperparameter grid\n",
    "param_grid = {\n",
    "    'C': [0.01, 0.1, 1, 10, 100],  # Inverse of regularization strength\n",
    "    'penalty': ['l1', 'l2', 'elasticnet', 'none'],  # Regularization penalty\n",
    "    'solver': ['liblinear', 'saga']  # Solvers that support l1 and elasticnet penalties\n",
    "}\n",
    "\n",
    "# Setup the grid search with cross-validation\n",
    "grid_search = GridSearchCV(estimator=logistic_model, param_grid=param_grid, cv=5, verbose=2, n_jobs=-1)\n",
    "\n",
    "# Fit the grid search on the training data\n",
    "grid_search.fit(X_train, y_train)\n",
    "\n",
    "# Get the best parameters\n",
    "best_params = grid_search.best_params_\n",
    "print(f\"Best parameters found: {best_params}\")\n",
    "\n",
    "# Use the best model to predict on the test data\n",
    "best_model = grid_search.best_estimator_\n",
    "y_pred = best_model.predict(X_test)\n",
    "\n",
    "# Evaluate the model's performance\n",
    "accuracy = accuracy_score(y_test, y_pred)\n",
    "print(\"Accuracy:\", accuracy)\n",
    "\n",
    "# Classification report gives precision, recall, f1-score, and support\n",
    "print(\"\\nClassification Report:\")\n",
    "print(classification_report(y_test, y_pred))\n",
    "\n",
    "# Confusion Matrix\n",
    "print(\"\\nConfusion Matrix:\")\n",
    "print(confusion_matrix(y_test, y_pred))\n"
   ]
  },
  {
   "cell_type": "markdown",
   "metadata": {},
   "source": [
    "### 3.2 Support vector Machine Code"
   ]
  },
  {
   "cell_type": "code",
   "execution_count": 29,
   "metadata": {},
   "outputs": [
    {
     "name": "stdout",
     "output_type": "stream",
     "text": [
      "Fitting 5 folds for each of 96 candidates, totalling 480 fits\n"
     ]
    },
    {
     "ename": "KeyboardInterrupt",
     "evalue": "",
     "output_type": "error",
     "traceback": [
      "\u001b[1;31m---------------------------------------------------------------------------\u001b[0m",
      "\u001b[1;31mKeyboardInterrupt\u001b[0m                         Traceback (most recent call last)",
      "Cell \u001b[1;32mIn[29], line 20\u001b[0m\n\u001b[0;32m     17\u001b[0m grid_search \u001b[38;5;241m=\u001b[39m GridSearchCV(estimator\u001b[38;5;241m=\u001b[39msvm_model, param_grid\u001b[38;5;241m=\u001b[39mparam_grid, cv\u001b[38;5;241m=\u001b[39m\u001b[38;5;241m5\u001b[39m, verbose\u001b[38;5;241m=\u001b[39m\u001b[38;5;241m2\u001b[39m, n_jobs\u001b[38;5;241m=\u001b[39m\u001b[38;5;241m-\u001b[39m\u001b[38;5;241m1\u001b[39m)\n\u001b[0;32m     19\u001b[0m \u001b[38;5;66;03m# Fit the grid search on the training data\u001b[39;00m\n\u001b[1;32m---> 20\u001b[0m \u001b[43mgrid_search\u001b[49m\u001b[38;5;241;43m.\u001b[39;49m\u001b[43mfit\u001b[49m\u001b[43m(\u001b[49m\u001b[43mX_train\u001b[49m\u001b[43m,\u001b[49m\u001b[43m \u001b[49m\u001b[43my_train\u001b[49m\u001b[43m)\u001b[49m\n\u001b[0;32m     22\u001b[0m \u001b[38;5;66;03m# Get the best parameters\u001b[39;00m\n\u001b[0;32m     23\u001b[0m best_params \u001b[38;5;241m=\u001b[39m grid_search\u001b[38;5;241m.\u001b[39mbest_params_\n",
      "File \u001b[1;32mc:\\Users\\harol\\.virtualenvs\\Ejecutables-sNxlcJa2\\Lib\\site-packages\\sklearn\\base.py:1473\u001b[0m, in \u001b[0;36m_fit_context.<locals>.decorator.<locals>.wrapper\u001b[1;34m(estimator, *args, **kwargs)\u001b[0m\n\u001b[0;32m   1466\u001b[0m     estimator\u001b[38;5;241m.\u001b[39m_validate_params()\n\u001b[0;32m   1468\u001b[0m \u001b[38;5;28;01mwith\u001b[39;00m config_context(\n\u001b[0;32m   1469\u001b[0m     skip_parameter_validation\u001b[38;5;241m=\u001b[39m(\n\u001b[0;32m   1470\u001b[0m         prefer_skip_nested_validation \u001b[38;5;129;01mor\u001b[39;00m global_skip_validation\n\u001b[0;32m   1471\u001b[0m     )\n\u001b[0;32m   1472\u001b[0m ):\n\u001b[1;32m-> 1473\u001b[0m     \u001b[38;5;28;01mreturn\u001b[39;00m \u001b[43mfit_method\u001b[49m\u001b[43m(\u001b[49m\u001b[43mestimator\u001b[49m\u001b[43m,\u001b[49m\u001b[43m \u001b[49m\u001b[38;5;241;43m*\u001b[39;49m\u001b[43margs\u001b[49m\u001b[43m,\u001b[49m\u001b[43m \u001b[49m\u001b[38;5;241;43m*\u001b[39;49m\u001b[38;5;241;43m*\u001b[39;49m\u001b[43mkwargs\u001b[49m\u001b[43m)\u001b[49m\n",
      "File \u001b[1;32mc:\\Users\\harol\\.virtualenvs\\Ejecutables-sNxlcJa2\\Lib\\site-packages\\sklearn\\model_selection\\_search.py:1018\u001b[0m, in \u001b[0;36mBaseSearchCV.fit\u001b[1;34m(self, X, y, **params)\u001b[0m\n\u001b[0;32m   1012\u001b[0m     results \u001b[38;5;241m=\u001b[39m \u001b[38;5;28mself\u001b[39m\u001b[38;5;241m.\u001b[39m_format_results(\n\u001b[0;32m   1013\u001b[0m         all_candidate_params, n_splits, all_out, all_more_results\n\u001b[0;32m   1014\u001b[0m     )\n\u001b[0;32m   1016\u001b[0m     \u001b[38;5;28;01mreturn\u001b[39;00m results\n\u001b[1;32m-> 1018\u001b[0m \u001b[38;5;28;43mself\u001b[39;49m\u001b[38;5;241;43m.\u001b[39;49m\u001b[43m_run_search\u001b[49m\u001b[43m(\u001b[49m\u001b[43mevaluate_candidates\u001b[49m\u001b[43m)\u001b[49m\n\u001b[0;32m   1020\u001b[0m \u001b[38;5;66;03m# multimetric is determined here because in the case of a callable\u001b[39;00m\n\u001b[0;32m   1021\u001b[0m \u001b[38;5;66;03m# self.scoring the return type is only known after calling\u001b[39;00m\n\u001b[0;32m   1022\u001b[0m first_test_score \u001b[38;5;241m=\u001b[39m all_out[\u001b[38;5;241m0\u001b[39m][\u001b[38;5;124m\"\u001b[39m\u001b[38;5;124mtest_scores\u001b[39m\u001b[38;5;124m\"\u001b[39m]\n",
      "File \u001b[1;32mc:\\Users\\harol\\.virtualenvs\\Ejecutables-sNxlcJa2\\Lib\\site-packages\\sklearn\\model_selection\\_search.py:1572\u001b[0m, in \u001b[0;36mGridSearchCV._run_search\u001b[1;34m(self, evaluate_candidates)\u001b[0m\n\u001b[0;32m   1570\u001b[0m \u001b[38;5;28;01mdef\u001b[39;00m \u001b[38;5;21m_run_search\u001b[39m(\u001b[38;5;28mself\u001b[39m, evaluate_candidates):\n\u001b[0;32m   1571\u001b[0m \u001b[38;5;250m    \u001b[39m\u001b[38;5;124;03m\"\"\"Search all candidates in param_grid\"\"\"\u001b[39;00m\n\u001b[1;32m-> 1572\u001b[0m     \u001b[43mevaluate_candidates\u001b[49m\u001b[43m(\u001b[49m\u001b[43mParameterGrid\u001b[49m\u001b[43m(\u001b[49m\u001b[38;5;28;43mself\u001b[39;49m\u001b[38;5;241;43m.\u001b[39;49m\u001b[43mparam_grid\u001b[49m\u001b[43m)\u001b[49m\u001b[43m)\u001b[49m\n",
      "File \u001b[1;32mc:\\Users\\harol\\.virtualenvs\\Ejecutables-sNxlcJa2\\Lib\\site-packages\\sklearn\\model_selection\\_search.py:964\u001b[0m, in \u001b[0;36mBaseSearchCV.fit.<locals>.evaluate_candidates\u001b[1;34m(candidate_params, cv, more_results)\u001b[0m\n\u001b[0;32m    956\u001b[0m \u001b[38;5;28;01mif\u001b[39;00m \u001b[38;5;28mself\u001b[39m\u001b[38;5;241m.\u001b[39mverbose \u001b[38;5;241m>\u001b[39m \u001b[38;5;241m0\u001b[39m:\n\u001b[0;32m    957\u001b[0m     \u001b[38;5;28mprint\u001b[39m(\n\u001b[0;32m    958\u001b[0m         \u001b[38;5;124m\"\u001b[39m\u001b[38;5;124mFitting \u001b[39m\u001b[38;5;132;01m{0}\u001b[39;00m\u001b[38;5;124m folds for each of \u001b[39m\u001b[38;5;132;01m{1}\u001b[39;00m\u001b[38;5;124m candidates,\u001b[39m\u001b[38;5;124m\"\u001b[39m\n\u001b[0;32m    959\u001b[0m         \u001b[38;5;124m\"\u001b[39m\u001b[38;5;124m totalling \u001b[39m\u001b[38;5;132;01m{2}\u001b[39;00m\u001b[38;5;124m fits\u001b[39m\u001b[38;5;124m\"\u001b[39m\u001b[38;5;241m.\u001b[39mformat(\n\u001b[0;32m    960\u001b[0m             n_splits, n_candidates, n_candidates \u001b[38;5;241m*\u001b[39m n_splits\n\u001b[0;32m    961\u001b[0m         )\n\u001b[0;32m    962\u001b[0m     )\n\u001b[1;32m--> 964\u001b[0m out \u001b[38;5;241m=\u001b[39m \u001b[43mparallel\u001b[49m\u001b[43m(\u001b[49m\n\u001b[0;32m    965\u001b[0m \u001b[43m    \u001b[49m\u001b[43mdelayed\u001b[49m\u001b[43m(\u001b[49m\u001b[43m_fit_and_score\u001b[49m\u001b[43m)\u001b[49m\u001b[43m(\u001b[49m\n\u001b[0;32m    966\u001b[0m \u001b[43m        \u001b[49m\u001b[43mclone\u001b[49m\u001b[43m(\u001b[49m\u001b[43mbase_estimator\u001b[49m\u001b[43m)\u001b[49m\u001b[43m,\u001b[49m\n\u001b[0;32m    967\u001b[0m \u001b[43m        \u001b[49m\u001b[43mX\u001b[49m\u001b[43m,\u001b[49m\n\u001b[0;32m    968\u001b[0m \u001b[43m        \u001b[49m\u001b[43my\u001b[49m\u001b[43m,\u001b[49m\n\u001b[0;32m    969\u001b[0m \u001b[43m        \u001b[49m\u001b[43mtrain\u001b[49m\u001b[38;5;241;43m=\u001b[39;49m\u001b[43mtrain\u001b[49m\u001b[43m,\u001b[49m\n\u001b[0;32m    970\u001b[0m \u001b[43m        \u001b[49m\u001b[43mtest\u001b[49m\u001b[38;5;241;43m=\u001b[39;49m\u001b[43mtest\u001b[49m\u001b[43m,\u001b[49m\n\u001b[0;32m    971\u001b[0m \u001b[43m        \u001b[49m\u001b[43mparameters\u001b[49m\u001b[38;5;241;43m=\u001b[39;49m\u001b[43mparameters\u001b[49m\u001b[43m,\u001b[49m\n\u001b[0;32m    972\u001b[0m \u001b[43m        \u001b[49m\u001b[43msplit_progress\u001b[49m\u001b[38;5;241;43m=\u001b[39;49m\u001b[43m(\u001b[49m\u001b[43msplit_idx\u001b[49m\u001b[43m,\u001b[49m\u001b[43m \u001b[49m\u001b[43mn_splits\u001b[49m\u001b[43m)\u001b[49m\u001b[43m,\u001b[49m\n\u001b[0;32m    973\u001b[0m \u001b[43m        \u001b[49m\u001b[43mcandidate_progress\u001b[49m\u001b[38;5;241;43m=\u001b[39;49m\u001b[43m(\u001b[49m\u001b[43mcand_idx\u001b[49m\u001b[43m,\u001b[49m\u001b[43m \u001b[49m\u001b[43mn_candidates\u001b[49m\u001b[43m)\u001b[49m\u001b[43m,\u001b[49m\n\u001b[0;32m    974\u001b[0m \u001b[43m        \u001b[49m\u001b[38;5;241;43m*\u001b[39;49m\u001b[38;5;241;43m*\u001b[39;49m\u001b[43mfit_and_score_kwargs\u001b[49m\u001b[43m,\u001b[49m\n\u001b[0;32m    975\u001b[0m \u001b[43m    \u001b[49m\u001b[43m)\u001b[49m\n\u001b[0;32m    976\u001b[0m \u001b[43m    \u001b[49m\u001b[38;5;28;43;01mfor\u001b[39;49;00m\u001b[43m \u001b[49m\u001b[43m(\u001b[49m\u001b[43mcand_idx\u001b[49m\u001b[43m,\u001b[49m\u001b[43m \u001b[49m\u001b[43mparameters\u001b[49m\u001b[43m)\u001b[49m\u001b[43m,\u001b[49m\u001b[43m \u001b[49m\u001b[43m(\u001b[49m\u001b[43msplit_idx\u001b[49m\u001b[43m,\u001b[49m\u001b[43m \u001b[49m\u001b[43m(\u001b[49m\u001b[43mtrain\u001b[49m\u001b[43m,\u001b[49m\u001b[43m \u001b[49m\u001b[43mtest\u001b[49m\u001b[43m)\u001b[49m\u001b[43m)\u001b[49m\u001b[43m \u001b[49m\u001b[38;5;129;43;01min\u001b[39;49;00m\u001b[43m \u001b[49m\u001b[43mproduct\u001b[49m\u001b[43m(\u001b[49m\n\u001b[0;32m    977\u001b[0m \u001b[43m        \u001b[49m\u001b[38;5;28;43menumerate\u001b[39;49m\u001b[43m(\u001b[49m\u001b[43mcandidate_params\u001b[49m\u001b[43m)\u001b[49m\u001b[43m,\u001b[49m\n\u001b[0;32m    978\u001b[0m \u001b[43m        \u001b[49m\u001b[38;5;28;43menumerate\u001b[39;49m\u001b[43m(\u001b[49m\u001b[43mcv\u001b[49m\u001b[38;5;241;43m.\u001b[39;49m\u001b[43msplit\u001b[49m\u001b[43m(\u001b[49m\u001b[43mX\u001b[49m\u001b[43m,\u001b[49m\u001b[43m \u001b[49m\u001b[43my\u001b[49m\u001b[43m,\u001b[49m\u001b[43m \u001b[49m\u001b[38;5;241;43m*\u001b[39;49m\u001b[38;5;241;43m*\u001b[39;49m\u001b[43mrouted_params\u001b[49m\u001b[38;5;241;43m.\u001b[39;49m\u001b[43msplitter\u001b[49m\u001b[38;5;241;43m.\u001b[39;49m\u001b[43msplit\u001b[49m\u001b[43m)\u001b[49m\u001b[43m)\u001b[49m\u001b[43m,\u001b[49m\n\u001b[0;32m    979\u001b[0m \u001b[43m    \u001b[49m\u001b[43m)\u001b[49m\n\u001b[0;32m    980\u001b[0m \u001b[43m\u001b[49m\u001b[43m)\u001b[49m\n\u001b[0;32m    982\u001b[0m \u001b[38;5;28;01mif\u001b[39;00m \u001b[38;5;28mlen\u001b[39m(out) \u001b[38;5;241m<\u001b[39m \u001b[38;5;241m1\u001b[39m:\n\u001b[0;32m    983\u001b[0m     \u001b[38;5;28;01mraise\u001b[39;00m \u001b[38;5;167;01mValueError\u001b[39;00m(\n\u001b[0;32m    984\u001b[0m         \u001b[38;5;124m\"\u001b[39m\u001b[38;5;124mNo fits were performed. \u001b[39m\u001b[38;5;124m\"\u001b[39m\n\u001b[0;32m    985\u001b[0m         \u001b[38;5;124m\"\u001b[39m\u001b[38;5;124mWas the CV iterator empty? \u001b[39m\u001b[38;5;124m\"\u001b[39m\n\u001b[0;32m    986\u001b[0m         \u001b[38;5;124m\"\u001b[39m\u001b[38;5;124mWere there no candidates?\u001b[39m\u001b[38;5;124m\"\u001b[39m\n\u001b[0;32m    987\u001b[0m     )\n",
      "File \u001b[1;32mc:\\Users\\harol\\.virtualenvs\\Ejecutables-sNxlcJa2\\Lib\\site-packages\\sklearn\\utils\\parallel.py:74\u001b[0m, in \u001b[0;36mParallel.__call__\u001b[1;34m(self, iterable)\u001b[0m\n\u001b[0;32m     69\u001b[0m config \u001b[38;5;241m=\u001b[39m get_config()\n\u001b[0;32m     70\u001b[0m iterable_with_config \u001b[38;5;241m=\u001b[39m (\n\u001b[0;32m     71\u001b[0m     (_with_config(delayed_func, config), args, kwargs)\n\u001b[0;32m     72\u001b[0m     \u001b[38;5;28;01mfor\u001b[39;00m delayed_func, args, kwargs \u001b[38;5;129;01min\u001b[39;00m iterable\n\u001b[0;32m     73\u001b[0m )\n\u001b[1;32m---> 74\u001b[0m \u001b[38;5;28;01mreturn\u001b[39;00m \u001b[38;5;28;43msuper\u001b[39;49m\u001b[43m(\u001b[49m\u001b[43m)\u001b[49m\u001b[38;5;241;43m.\u001b[39;49m\u001b[38;5;21;43m__call__\u001b[39;49m\u001b[43m(\u001b[49m\u001b[43miterable_with_config\u001b[49m\u001b[43m)\u001b[49m\n",
      "File \u001b[1;32mc:\\Users\\harol\\.virtualenvs\\Ejecutables-sNxlcJa2\\Lib\\site-packages\\joblib\\parallel.py:2007\u001b[0m, in \u001b[0;36mParallel.__call__\u001b[1;34m(self, iterable)\u001b[0m\n\u001b[0;32m   2001\u001b[0m \u001b[38;5;66;03m# The first item from the output is blank, but it makes the interpreter\u001b[39;00m\n\u001b[0;32m   2002\u001b[0m \u001b[38;5;66;03m# progress until it enters the Try/Except block of the generator and\u001b[39;00m\n\u001b[0;32m   2003\u001b[0m \u001b[38;5;66;03m# reaches the first `yield` statement. This starts the asynchronous\u001b[39;00m\n\u001b[0;32m   2004\u001b[0m \u001b[38;5;66;03m# dispatch of the tasks to the workers.\u001b[39;00m\n\u001b[0;32m   2005\u001b[0m \u001b[38;5;28mnext\u001b[39m(output)\n\u001b[1;32m-> 2007\u001b[0m \u001b[38;5;28;01mreturn\u001b[39;00m output \u001b[38;5;28;01mif\u001b[39;00m \u001b[38;5;28mself\u001b[39m\u001b[38;5;241m.\u001b[39mreturn_generator \u001b[38;5;28;01melse\u001b[39;00m \u001b[38;5;28;43mlist\u001b[39;49m\u001b[43m(\u001b[49m\u001b[43moutput\u001b[49m\u001b[43m)\u001b[49m\n",
      "File \u001b[1;32mc:\\Users\\harol\\.virtualenvs\\Ejecutables-sNxlcJa2\\Lib\\site-packages\\joblib\\parallel.py:1650\u001b[0m, in \u001b[0;36mParallel._get_outputs\u001b[1;34m(self, iterator, pre_dispatch)\u001b[0m\n\u001b[0;32m   1647\u001b[0m     \u001b[38;5;28;01myield\u001b[39;00m\n\u001b[0;32m   1649\u001b[0m     \u001b[38;5;28;01mwith\u001b[39;00m \u001b[38;5;28mself\u001b[39m\u001b[38;5;241m.\u001b[39m_backend\u001b[38;5;241m.\u001b[39mretrieval_context():\n\u001b[1;32m-> 1650\u001b[0m         \u001b[38;5;28;01myield from\u001b[39;00m \u001b[38;5;28mself\u001b[39m\u001b[38;5;241m.\u001b[39m_retrieve()\n\u001b[0;32m   1652\u001b[0m \u001b[38;5;28;01mexcept\u001b[39;00m \u001b[38;5;167;01mGeneratorExit\u001b[39;00m:\n\u001b[0;32m   1653\u001b[0m     \u001b[38;5;66;03m# The generator has been garbage collected before being fully\u001b[39;00m\n\u001b[0;32m   1654\u001b[0m     \u001b[38;5;66;03m# consumed. This aborts the remaining tasks if possible and warn\u001b[39;00m\n\u001b[0;32m   1655\u001b[0m     \u001b[38;5;66;03m# the user if necessary.\u001b[39;00m\n\u001b[0;32m   1656\u001b[0m     \u001b[38;5;28mself\u001b[39m\u001b[38;5;241m.\u001b[39m_exception \u001b[38;5;241m=\u001b[39m \u001b[38;5;28;01mTrue\u001b[39;00m\n",
      "File \u001b[1;32mc:\\Users\\harol\\.virtualenvs\\Ejecutables-sNxlcJa2\\Lib\\site-packages\\joblib\\parallel.py:1762\u001b[0m, in \u001b[0;36mParallel._retrieve\u001b[1;34m(self)\u001b[0m\n\u001b[0;32m   1757\u001b[0m \u001b[38;5;66;03m# If the next job is not ready for retrieval yet, we just wait for\u001b[39;00m\n\u001b[0;32m   1758\u001b[0m \u001b[38;5;66;03m# async callbacks to progress.\u001b[39;00m\n\u001b[0;32m   1759\u001b[0m \u001b[38;5;28;01mif\u001b[39;00m ((\u001b[38;5;28mlen\u001b[39m(\u001b[38;5;28mself\u001b[39m\u001b[38;5;241m.\u001b[39m_jobs) \u001b[38;5;241m==\u001b[39m \u001b[38;5;241m0\u001b[39m) \u001b[38;5;129;01mor\u001b[39;00m\n\u001b[0;32m   1760\u001b[0m     (\u001b[38;5;28mself\u001b[39m\u001b[38;5;241m.\u001b[39m_jobs[\u001b[38;5;241m0\u001b[39m]\u001b[38;5;241m.\u001b[39mget_status(\n\u001b[0;32m   1761\u001b[0m         timeout\u001b[38;5;241m=\u001b[39m\u001b[38;5;28mself\u001b[39m\u001b[38;5;241m.\u001b[39mtimeout) \u001b[38;5;241m==\u001b[39m TASK_PENDING)):\n\u001b[1;32m-> 1762\u001b[0m     time\u001b[38;5;241m.\u001b[39msleep(\u001b[38;5;241m0.01\u001b[39m)\n\u001b[0;32m   1763\u001b[0m     \u001b[38;5;28;01mcontinue\u001b[39;00m\n\u001b[0;32m   1765\u001b[0m \u001b[38;5;66;03m# We need to be careful: the job list can be filling up as\u001b[39;00m\n\u001b[0;32m   1766\u001b[0m \u001b[38;5;66;03m# we empty it and Python list are not thread-safe by\u001b[39;00m\n\u001b[0;32m   1767\u001b[0m \u001b[38;5;66;03m# default hence the use of the lock\u001b[39;00m\n",
      "\u001b[1;31mKeyboardInterrupt\u001b[0m: "
     ]
    }
   ],
   "source": [
    "from sklearn.svm import SVC\n",
    "from sklearn.model_selection import GridSearchCV\n",
    "from sklearn.metrics import accuracy_score, classification_report, confusion_matrix\n",
    "\n",
    "# Initialize the Support Vector Machine model\n",
    "svm_model = SVC()\n",
    "\n",
    "# Define the hyperparameter grid\n",
    "param_grid = {\n",
    "    'C': [0.1, 1, 10, 100],  # Regularization parameter\n",
    "    'kernel': ['poly', 'rbf', 'linear'],  # Types of kernels to test\n",
    "    'degree': [1, 2, 3, 4],  # Degree of the polynomial kernel function\n",
    "    'gamma': ['scale', 'auto']  # Kernel coefficient\n",
    "}\n",
    "\n",
    "# Setup the grid search with cross-validation\n",
    "grid_search = GridSearchCV(estimator=svm_model, param_grid=param_grid, cv=5, verbose=2, n_jobs=-1)\n",
    "\n",
    "# Fit the grid search on the training data\n",
    "grid_search.fit(X_train, y_train)\n",
    "\n",
    "# Get the best parameters\n",
    "best_params = grid_search.best_params_\n",
    "print(f\"Best parameters found: {best_params}\")\n",
    "\n",
    "# The best model to predict on the test data\n",
    "best_model = grid_search.best_estimator_\n",
    "y_pred = best_model.predict(X_test)\n",
    "\n",
    "# Evaluate the model's performance\n",
    "accuracy = accuracy_score(y_test, y_pred)\n",
    "print(\"Accuracy:\", accuracy)\n",
    "\n",
    "# Classification report gives precision, recall, f1-score, and support\n",
    "print(\"\\nClassification Report:\")\n",
    "print(classification_report(y_test, y_pred))\n",
    "\n",
    "# Confusion Matrix\n",
    "print(\"\\nConfusion Matrix:\")\n",
    "print(confusion_matrix(y_test, y_pred))\n"
   ]
  },
  {
   "cell_type": "code",
   "execution_count": 24,
   "metadata": {},
   "outputs": [],
   "source": [
    "from sklearn.svm import SVC"
   ]
  },
  {
   "cell_type": "code",
   "execution_count": 25,
   "metadata": {},
   "outputs": [
    {
     "name": "stderr",
     "output_type": "stream",
     "text": [
      "c:\\Users\\harol\\.virtualenvs\\Ejecutables-sNxlcJa2\\Lib\\site-packages\\sklearn\\utils\\validation.py:1339: DataConversionWarning: A column-vector y was passed when a 1d array was expected. Please change the shape of y to (n_samples, ), for example using ravel().\n",
      "  y = column_or_1d(y, warn=True)\n"
     ]
    },
    {
     "data": {
      "text/html": [
       "<style>#sk-container-id-1 {\n",
       "  /* Definition of color scheme common for light and dark mode */\n",
       "  --sklearn-color-text: black;\n",
       "  --sklearn-color-line: gray;\n",
       "  /* Definition of color scheme for unfitted estimators */\n",
       "  --sklearn-color-unfitted-level-0: #fff5e6;\n",
       "  --sklearn-color-unfitted-level-1: #f6e4d2;\n",
       "  --sklearn-color-unfitted-level-2: #ffe0b3;\n",
       "  --sklearn-color-unfitted-level-3: chocolate;\n",
       "  /* Definition of color scheme for fitted estimators */\n",
       "  --sklearn-color-fitted-level-0: #f0f8ff;\n",
       "  --sklearn-color-fitted-level-1: #d4ebff;\n",
       "  --sklearn-color-fitted-level-2: #b3dbfd;\n",
       "  --sklearn-color-fitted-level-3: cornflowerblue;\n",
       "\n",
       "  /* Specific color for light theme */\n",
       "  --sklearn-color-text-on-default-background: var(--sg-text-color, var(--theme-code-foreground, var(--jp-content-font-color1, black)));\n",
       "  --sklearn-color-background: var(--sg-background-color, var(--theme-background, var(--jp-layout-color0, white)));\n",
       "  --sklearn-color-border-box: var(--sg-text-color, var(--theme-code-foreground, var(--jp-content-font-color1, black)));\n",
       "  --sklearn-color-icon: #696969;\n",
       "\n",
       "  @media (prefers-color-scheme: dark) {\n",
       "    /* Redefinition of color scheme for dark theme */\n",
       "    --sklearn-color-text-on-default-background: var(--sg-text-color, var(--theme-code-foreground, var(--jp-content-font-color1, white)));\n",
       "    --sklearn-color-background: var(--sg-background-color, var(--theme-background, var(--jp-layout-color0, #111)));\n",
       "    --sklearn-color-border-box: var(--sg-text-color, var(--theme-code-foreground, var(--jp-content-font-color1, white)));\n",
       "    --sklearn-color-icon: #878787;\n",
       "  }\n",
       "}\n",
       "\n",
       "#sk-container-id-1 {\n",
       "  color: var(--sklearn-color-text);\n",
       "}\n",
       "\n",
       "#sk-container-id-1 pre {\n",
       "  padding: 0;\n",
       "}\n",
       "\n",
       "#sk-container-id-1 input.sk-hidden--visually {\n",
       "  border: 0;\n",
       "  clip: rect(1px 1px 1px 1px);\n",
       "  clip: rect(1px, 1px, 1px, 1px);\n",
       "  height: 1px;\n",
       "  margin: -1px;\n",
       "  overflow: hidden;\n",
       "  padding: 0;\n",
       "  position: absolute;\n",
       "  width: 1px;\n",
       "}\n",
       "\n",
       "#sk-container-id-1 div.sk-dashed-wrapped {\n",
       "  border: 1px dashed var(--sklearn-color-line);\n",
       "  margin: 0 0.4em 0.5em 0.4em;\n",
       "  box-sizing: border-box;\n",
       "  padding-bottom: 0.4em;\n",
       "  background-color: var(--sklearn-color-background);\n",
       "}\n",
       "\n",
       "#sk-container-id-1 div.sk-container {\n",
       "  /* jupyter's `normalize.less` sets `[hidden] { display: none; }`\n",
       "     but bootstrap.min.css set `[hidden] { display: none !important; }`\n",
       "     so we also need the `!important` here to be able to override the\n",
       "     default hidden behavior on the sphinx rendered scikit-learn.org.\n",
       "     See: https://github.com/scikit-learn/scikit-learn/issues/21755 */\n",
       "  display: inline-block !important;\n",
       "  position: relative;\n",
       "}\n",
       "\n",
       "#sk-container-id-1 div.sk-text-repr-fallback {\n",
       "  display: none;\n",
       "}\n",
       "\n",
       "div.sk-parallel-item,\n",
       "div.sk-serial,\n",
       "div.sk-item {\n",
       "  /* draw centered vertical line to link estimators */\n",
       "  background-image: linear-gradient(var(--sklearn-color-text-on-default-background), var(--sklearn-color-text-on-default-background));\n",
       "  background-size: 2px 100%;\n",
       "  background-repeat: no-repeat;\n",
       "  background-position: center center;\n",
       "}\n",
       "\n",
       "/* Parallel-specific style estimator block */\n",
       "\n",
       "#sk-container-id-1 div.sk-parallel-item::after {\n",
       "  content: \"\";\n",
       "  width: 100%;\n",
       "  border-bottom: 2px solid var(--sklearn-color-text-on-default-background);\n",
       "  flex-grow: 1;\n",
       "}\n",
       "\n",
       "#sk-container-id-1 div.sk-parallel {\n",
       "  display: flex;\n",
       "  align-items: stretch;\n",
       "  justify-content: center;\n",
       "  background-color: var(--sklearn-color-background);\n",
       "  position: relative;\n",
       "}\n",
       "\n",
       "#sk-container-id-1 div.sk-parallel-item {\n",
       "  display: flex;\n",
       "  flex-direction: column;\n",
       "}\n",
       "\n",
       "#sk-container-id-1 div.sk-parallel-item:first-child::after {\n",
       "  align-self: flex-end;\n",
       "  width: 50%;\n",
       "}\n",
       "\n",
       "#sk-container-id-1 div.sk-parallel-item:last-child::after {\n",
       "  align-self: flex-start;\n",
       "  width: 50%;\n",
       "}\n",
       "\n",
       "#sk-container-id-1 div.sk-parallel-item:only-child::after {\n",
       "  width: 0;\n",
       "}\n",
       "\n",
       "/* Serial-specific style estimator block */\n",
       "\n",
       "#sk-container-id-1 div.sk-serial {\n",
       "  display: flex;\n",
       "  flex-direction: column;\n",
       "  align-items: center;\n",
       "  background-color: var(--sklearn-color-background);\n",
       "  padding-right: 1em;\n",
       "  padding-left: 1em;\n",
       "}\n",
       "\n",
       "\n",
       "/* Toggleable style: style used for estimator/Pipeline/ColumnTransformer box that is\n",
       "clickable and can be expanded/collapsed.\n",
       "- Pipeline and ColumnTransformer use this feature and define the default style\n",
       "- Estimators will overwrite some part of the style using the `sk-estimator` class\n",
       "*/\n",
       "\n",
       "/* Pipeline and ColumnTransformer style (default) */\n",
       "\n",
       "#sk-container-id-1 div.sk-toggleable {\n",
       "  /* Default theme specific background. It is overwritten whether we have a\n",
       "  specific estimator or a Pipeline/ColumnTransformer */\n",
       "  background-color: var(--sklearn-color-background);\n",
       "}\n",
       "\n",
       "/* Toggleable label */\n",
       "#sk-container-id-1 label.sk-toggleable__label {\n",
       "  cursor: pointer;\n",
       "  display: block;\n",
       "  width: 100%;\n",
       "  margin-bottom: 0;\n",
       "  padding: 0.5em;\n",
       "  box-sizing: border-box;\n",
       "  text-align: center;\n",
       "}\n",
       "\n",
       "#sk-container-id-1 label.sk-toggleable__label-arrow:before {\n",
       "  /* Arrow on the left of the label */\n",
       "  content: \"▸\";\n",
       "  float: left;\n",
       "  margin-right: 0.25em;\n",
       "  color: var(--sklearn-color-icon);\n",
       "}\n",
       "\n",
       "#sk-container-id-1 label.sk-toggleable__label-arrow:hover:before {\n",
       "  color: var(--sklearn-color-text);\n",
       "}\n",
       "\n",
       "/* Toggleable content - dropdown */\n",
       "\n",
       "#sk-container-id-1 div.sk-toggleable__content {\n",
       "  max-height: 0;\n",
       "  max-width: 0;\n",
       "  overflow: hidden;\n",
       "  text-align: left;\n",
       "  /* unfitted */\n",
       "  background-color: var(--sklearn-color-unfitted-level-0);\n",
       "}\n",
       "\n",
       "#sk-container-id-1 div.sk-toggleable__content.fitted {\n",
       "  /* fitted */\n",
       "  background-color: var(--sklearn-color-fitted-level-0);\n",
       "}\n",
       "\n",
       "#sk-container-id-1 div.sk-toggleable__content pre {\n",
       "  margin: 0.2em;\n",
       "  border-radius: 0.25em;\n",
       "  color: var(--sklearn-color-text);\n",
       "  /* unfitted */\n",
       "  background-color: var(--sklearn-color-unfitted-level-0);\n",
       "}\n",
       "\n",
       "#sk-container-id-1 div.sk-toggleable__content.fitted pre {\n",
       "  /* unfitted */\n",
       "  background-color: var(--sklearn-color-fitted-level-0);\n",
       "}\n",
       "\n",
       "#sk-container-id-1 input.sk-toggleable__control:checked~div.sk-toggleable__content {\n",
       "  /* Expand drop-down */\n",
       "  max-height: 200px;\n",
       "  max-width: 100%;\n",
       "  overflow: auto;\n",
       "}\n",
       "\n",
       "#sk-container-id-1 input.sk-toggleable__control:checked~label.sk-toggleable__label-arrow:before {\n",
       "  content: \"▾\";\n",
       "}\n",
       "\n",
       "/* Pipeline/ColumnTransformer-specific style */\n",
       "\n",
       "#sk-container-id-1 div.sk-label input.sk-toggleable__control:checked~label.sk-toggleable__label {\n",
       "  color: var(--sklearn-color-text);\n",
       "  background-color: var(--sklearn-color-unfitted-level-2);\n",
       "}\n",
       "\n",
       "#sk-container-id-1 div.sk-label.fitted input.sk-toggleable__control:checked~label.sk-toggleable__label {\n",
       "  background-color: var(--sklearn-color-fitted-level-2);\n",
       "}\n",
       "\n",
       "/* Estimator-specific style */\n",
       "\n",
       "/* Colorize estimator box */\n",
       "#sk-container-id-1 div.sk-estimator input.sk-toggleable__control:checked~label.sk-toggleable__label {\n",
       "  /* unfitted */\n",
       "  background-color: var(--sklearn-color-unfitted-level-2);\n",
       "}\n",
       "\n",
       "#sk-container-id-1 div.sk-estimator.fitted input.sk-toggleable__control:checked~label.sk-toggleable__label {\n",
       "  /* fitted */\n",
       "  background-color: var(--sklearn-color-fitted-level-2);\n",
       "}\n",
       "\n",
       "#sk-container-id-1 div.sk-label label.sk-toggleable__label,\n",
       "#sk-container-id-1 div.sk-label label {\n",
       "  /* The background is the default theme color */\n",
       "  color: var(--sklearn-color-text-on-default-background);\n",
       "}\n",
       "\n",
       "/* On hover, darken the color of the background */\n",
       "#sk-container-id-1 div.sk-label:hover label.sk-toggleable__label {\n",
       "  color: var(--sklearn-color-text);\n",
       "  background-color: var(--sklearn-color-unfitted-level-2);\n",
       "}\n",
       "\n",
       "/* Label box, darken color on hover, fitted */\n",
       "#sk-container-id-1 div.sk-label.fitted:hover label.sk-toggleable__label.fitted {\n",
       "  color: var(--sklearn-color-text);\n",
       "  background-color: var(--sklearn-color-fitted-level-2);\n",
       "}\n",
       "\n",
       "/* Estimator label */\n",
       "\n",
       "#sk-container-id-1 div.sk-label label {\n",
       "  font-family: monospace;\n",
       "  font-weight: bold;\n",
       "  display: inline-block;\n",
       "  line-height: 1.2em;\n",
       "}\n",
       "\n",
       "#sk-container-id-1 div.sk-label-container {\n",
       "  text-align: center;\n",
       "}\n",
       "\n",
       "/* Estimator-specific */\n",
       "#sk-container-id-1 div.sk-estimator {\n",
       "  font-family: monospace;\n",
       "  border: 1px dotted var(--sklearn-color-border-box);\n",
       "  border-radius: 0.25em;\n",
       "  box-sizing: border-box;\n",
       "  margin-bottom: 0.5em;\n",
       "  /* unfitted */\n",
       "  background-color: var(--sklearn-color-unfitted-level-0);\n",
       "}\n",
       "\n",
       "#sk-container-id-1 div.sk-estimator.fitted {\n",
       "  /* fitted */\n",
       "  background-color: var(--sklearn-color-fitted-level-0);\n",
       "}\n",
       "\n",
       "/* on hover */\n",
       "#sk-container-id-1 div.sk-estimator:hover {\n",
       "  /* unfitted */\n",
       "  background-color: var(--sklearn-color-unfitted-level-2);\n",
       "}\n",
       "\n",
       "#sk-container-id-1 div.sk-estimator.fitted:hover {\n",
       "  /* fitted */\n",
       "  background-color: var(--sklearn-color-fitted-level-2);\n",
       "}\n",
       "\n",
       "/* Specification for estimator info (e.g. \"i\" and \"?\") */\n",
       "\n",
       "/* Common style for \"i\" and \"?\" */\n",
       "\n",
       ".sk-estimator-doc-link,\n",
       "a:link.sk-estimator-doc-link,\n",
       "a:visited.sk-estimator-doc-link {\n",
       "  float: right;\n",
       "  font-size: smaller;\n",
       "  line-height: 1em;\n",
       "  font-family: monospace;\n",
       "  background-color: var(--sklearn-color-background);\n",
       "  border-radius: 1em;\n",
       "  height: 1em;\n",
       "  width: 1em;\n",
       "  text-decoration: none !important;\n",
       "  margin-left: 1ex;\n",
       "  /* unfitted */\n",
       "  border: var(--sklearn-color-unfitted-level-1) 1pt solid;\n",
       "  color: var(--sklearn-color-unfitted-level-1);\n",
       "}\n",
       "\n",
       ".sk-estimator-doc-link.fitted,\n",
       "a:link.sk-estimator-doc-link.fitted,\n",
       "a:visited.sk-estimator-doc-link.fitted {\n",
       "  /* fitted */\n",
       "  border: var(--sklearn-color-fitted-level-1) 1pt solid;\n",
       "  color: var(--sklearn-color-fitted-level-1);\n",
       "}\n",
       "\n",
       "/* On hover */\n",
       "div.sk-estimator:hover .sk-estimator-doc-link:hover,\n",
       ".sk-estimator-doc-link:hover,\n",
       "div.sk-label-container:hover .sk-estimator-doc-link:hover,\n",
       ".sk-estimator-doc-link:hover {\n",
       "  /* unfitted */\n",
       "  background-color: var(--sklearn-color-unfitted-level-3);\n",
       "  color: var(--sklearn-color-background);\n",
       "  text-decoration: none;\n",
       "}\n",
       "\n",
       "div.sk-estimator.fitted:hover .sk-estimator-doc-link.fitted:hover,\n",
       ".sk-estimator-doc-link.fitted:hover,\n",
       "div.sk-label-container:hover .sk-estimator-doc-link.fitted:hover,\n",
       ".sk-estimator-doc-link.fitted:hover {\n",
       "  /* fitted */\n",
       "  background-color: var(--sklearn-color-fitted-level-3);\n",
       "  color: var(--sklearn-color-background);\n",
       "  text-decoration: none;\n",
       "}\n",
       "\n",
       "/* Span, style for the box shown on hovering the info icon */\n",
       ".sk-estimator-doc-link span {\n",
       "  display: none;\n",
       "  z-index: 9999;\n",
       "  position: relative;\n",
       "  font-weight: normal;\n",
       "  right: .2ex;\n",
       "  padding: .5ex;\n",
       "  margin: .5ex;\n",
       "  width: min-content;\n",
       "  min-width: 20ex;\n",
       "  max-width: 50ex;\n",
       "  color: var(--sklearn-color-text);\n",
       "  box-shadow: 2pt 2pt 4pt #999;\n",
       "  /* unfitted */\n",
       "  background: var(--sklearn-color-unfitted-level-0);\n",
       "  border: .5pt solid var(--sklearn-color-unfitted-level-3);\n",
       "}\n",
       "\n",
       ".sk-estimator-doc-link.fitted span {\n",
       "  /* fitted */\n",
       "  background: var(--sklearn-color-fitted-level-0);\n",
       "  border: var(--sklearn-color-fitted-level-3);\n",
       "}\n",
       "\n",
       ".sk-estimator-doc-link:hover span {\n",
       "  display: block;\n",
       "}\n",
       "\n",
       "/* \"?\"-specific style due to the `<a>` HTML tag */\n",
       "\n",
       "#sk-container-id-1 a.estimator_doc_link {\n",
       "  float: right;\n",
       "  font-size: 1rem;\n",
       "  line-height: 1em;\n",
       "  font-family: monospace;\n",
       "  background-color: var(--sklearn-color-background);\n",
       "  border-radius: 1rem;\n",
       "  height: 1rem;\n",
       "  width: 1rem;\n",
       "  text-decoration: none;\n",
       "  /* unfitted */\n",
       "  color: var(--sklearn-color-unfitted-level-1);\n",
       "  border: var(--sklearn-color-unfitted-level-1) 1pt solid;\n",
       "}\n",
       "\n",
       "#sk-container-id-1 a.estimator_doc_link.fitted {\n",
       "  /* fitted */\n",
       "  border: var(--sklearn-color-fitted-level-1) 1pt solid;\n",
       "  color: var(--sklearn-color-fitted-level-1);\n",
       "}\n",
       "\n",
       "/* On hover */\n",
       "#sk-container-id-1 a.estimator_doc_link:hover {\n",
       "  /* unfitted */\n",
       "  background-color: var(--sklearn-color-unfitted-level-3);\n",
       "  color: var(--sklearn-color-background);\n",
       "  text-decoration: none;\n",
       "}\n",
       "\n",
       "#sk-container-id-1 a.estimator_doc_link.fitted:hover {\n",
       "  /* fitted */\n",
       "  background-color: var(--sklearn-color-fitted-level-3);\n",
       "}\n",
       "</style><div id=\"sk-container-id-1\" class=\"sk-top-container\"><div class=\"sk-text-repr-fallback\"><pre>SVC(degree=1, kernel=&#x27;poly&#x27;)</pre><b>In a Jupyter environment, please rerun this cell to show the HTML representation or trust the notebook. <br />On GitHub, the HTML representation is unable to render, please try loading this page with nbviewer.org.</b></div><div class=\"sk-container\" hidden><div class=\"sk-item\"><div class=\"sk-estimator fitted sk-toggleable\"><input class=\"sk-toggleable__control sk-hidden--visually\" id=\"sk-estimator-id-1\" type=\"checkbox\" checked><label for=\"sk-estimator-id-1\" class=\"sk-toggleable__label fitted sk-toggleable__label-arrow fitted\">&nbsp;&nbsp;SVC<a class=\"sk-estimator-doc-link fitted\" rel=\"noreferrer\" target=\"_blank\" href=\"https://scikit-learn.org/1.5/modules/generated/sklearn.svm.SVC.html\">?<span>Documentation for SVC</span></a><span class=\"sk-estimator-doc-link fitted\">i<span>Fitted</span></span></label><div class=\"sk-toggleable__content fitted\"><pre>SVC(degree=1, kernel=&#x27;poly&#x27;)</pre></div> </div></div></div></div>"
      ],
      "text/plain": [
       "SVC(degree=1, kernel='poly')"
      ]
     },
     "execution_count": 25,
     "metadata": {},
     "output_type": "execute_result"
    }
   ],
   "source": [
    "# Initialize the Support Vector Machine model\n",
    "svm_model = SVC(kernel= 'poly', degree= 1)\n",
    "\n",
    "# Fit the model on the training data\n",
    "svm_model.fit(X_train, y_train)\n",
    "\n"
   ]
  },
  {
   "cell_type": "code",
   "execution_count": 26,
   "metadata": {},
   "outputs": [],
   "source": [
    "# Predict on the test data\n",
    "y_pred = svm_model.predict(X_test)"
   ]
  },
  {
   "cell_type": "code",
   "execution_count": 27,
   "metadata": {},
   "outputs": [
    {
     "name": "stdout",
     "output_type": "stream",
     "text": [
      "Accuracy: 0.5558516089362574\n",
      "\n",
      "Classification Report:\n",
      "              precision    recall  f1-score   support\n",
      "\n",
      "       <=50K       0.57      0.93      0.71      4877\n",
      "      <=50K.       0.00      0.00      0.00      2486\n",
      "        >50K       0.48      0.54      0.51      1612\n",
      "       >50K.       0.00      0.00      0.00       783\n",
      "\n",
      "    accuracy                           0.56      9758\n",
      "   macro avg       0.26      0.37      0.30      9758\n",
      "weighted avg       0.37      0.56      0.44      9758\n",
      "\n",
      "\n",
      "Confusion Matrix:\n",
      "[[4550    0  327    0]\n",
      " [2324    0  162    0]\n",
      " [ 738    0  874    0]\n",
      " [ 315    0  468    0]]\n"
     ]
    },
    {
     "name": "stderr",
     "output_type": "stream",
     "text": [
      "c:\\Users\\harol\\.virtualenvs\\Ejecutables-sNxlcJa2\\Lib\\site-packages\\sklearn\\metrics\\_classification.py:1531: UndefinedMetricWarning: Precision is ill-defined and being set to 0.0 in labels with no predicted samples. Use `zero_division` parameter to control this behavior.\n",
      "  _warn_prf(average, modifier, f\"{metric.capitalize()} is\", len(result))\n",
      "c:\\Users\\harol\\.virtualenvs\\Ejecutables-sNxlcJa2\\Lib\\site-packages\\sklearn\\metrics\\_classification.py:1531: UndefinedMetricWarning: Precision is ill-defined and being set to 0.0 in labels with no predicted samples. Use `zero_division` parameter to control this behavior.\n",
      "  _warn_prf(average, modifier, f\"{metric.capitalize()} is\", len(result))\n",
      "c:\\Users\\harol\\.virtualenvs\\Ejecutables-sNxlcJa2\\Lib\\site-packages\\sklearn\\metrics\\_classification.py:1531: UndefinedMetricWarning: Precision is ill-defined and being set to 0.0 in labels with no predicted samples. Use `zero_division` parameter to control this behavior.\n",
      "  _warn_prf(average, modifier, f\"{metric.capitalize()} is\", len(result))\n"
     ]
    }
   ],
   "source": [
    "# Evaluate the model's performance\n",
    "accuracy = accuracy_score(y_test, y_pred)\n",
    "print(\"Accuracy:\", accuracy)\n",
    "\n",
    "# Classification report gives precision, recall, f1-score, and support\n",
    "print(\"\\nClassification Report:\")\n",
    "print(classification_report(y_test, y_pred))\n",
    "\n",
    "# Confusion Matrix\n",
    "print(\"\\nConfusion Matrix:\")\n",
    "print(confusion_matrix(y_test, y_pred))"
   ]
  },
  {
   "cell_type": "markdown",
   "metadata": {},
   "source": [
    "#### Compare their performance of the Two models Logistic regression and Suport vector Machine. "
   ]
  },
  {
   "cell_type": "markdown",
   "metadata": {},
   "source": [
    "Based on the result above we will identify and select the best performing model basde on accuracy. For that propose we compare the accuracy score of the logistic Regression model and the support Vector machine (SVM). The accurary measures indicate the proportion of correctly classified instances among the total instances. \n",
    "\n",
    "\n",
    "Model Accuracy Comparation:\n",
    "\n",
    "1. Logistic Regresion Model:\n",
    "    * Accuracy: 0.5684\n",
    "\n",
    "2. Support Vector Machine Model:\n",
    "    * Accuracy: 0.5559\n",
    "\n",
    "Conclusion: \n",
    "\n",
    "The best performing model: The logistic regresion model performs moderately better with an accuracy of 0.5684 comparated to the SVM models accuracy of 0.5559.\n",
    "\n",
    "Decision: Based on accuracy, The best performs model is Logistic regresion. "
   ]
  },
  {
   "cell_type": "markdown",
   "metadata": {},
   "source": [
    "## 4  Model Evaluation and Comparison \n"
   ]
  },
  {
   "cell_type": "markdown",
   "metadata": {},
   "source": [
    "*  Evaluate and compare the two models using at least 2 [TWO] performance metrics on the testing set."
   ]
  },
  {
   "cell_type": "markdown",
   "metadata": {},
   "source": [
    "The two performance metrics of the test set that we are going to use in the models are accuracy and misclassification rate. While  accuracy represents the proportion of all classifications that were correct, whether positive or negative.  (Classification: Accuracy, Recall, Precision, and Related Metrics | Machine Learning, 2024). \n",
    "The Misclasification rate refer to the proportion of incorrectly classied of objects (ScienceDirect., 2000)\n"
   ]
  },
  {
   "cell_type": "code",
   "execution_count": 28,
   "metadata": {},
   "outputs": [
    {
     "name": "stderr",
     "output_type": "stream",
     "text": [
      "c:\\Users\\harol\\.virtualenvs\\Ejecutables-sNxlcJa2\\Lib\\site-packages\\sklearn\\utils\\validation.py:1339: DataConversionWarning: A column-vector y was passed when a 1d array was expected. Please change the shape of y to (n_samples, ), for example using ravel().\n",
      "  y = column_or_1d(y, warn=True)\n"
     ]
    },
    {
     "name": "stdout",
     "output_type": "stream",
     "text": [
      "Accuracy: 0.5558516089362574\n",
      "Misclassification Rate: 0.4441483910637426\n",
      "\n",
      "Classification Report:\n",
      "              precision    recall  f1-score   support\n",
      "\n",
      "       <=50K       0.57      0.93      0.71      4877\n",
      "      <=50K.       0.00      0.00      0.00      2486\n",
      "        >50K       0.48      0.54      0.51      1612\n",
      "       >50K.       0.00      0.00      0.00       783\n",
      "\n",
      "    accuracy                           0.56      9758\n",
      "   macro avg       0.26      0.37      0.30      9758\n",
      "weighted avg       0.37      0.56      0.44      9758\n",
      "\n",
      "\n",
      "Confusion Matrix:\n",
      "[[4550    0  327    0]\n",
      " [2324    0  162    0]\n",
      " [ 738    0  874    0]\n",
      " [ 315    0  468    0]]\n"
     ]
    },
    {
     "name": "stderr",
     "output_type": "stream",
     "text": [
      "c:\\Users\\harol\\.virtualenvs\\Ejecutables-sNxlcJa2\\Lib\\site-packages\\sklearn\\metrics\\_classification.py:1531: UndefinedMetricWarning: Precision is ill-defined and being set to 0.0 in labels with no predicted samples. Use `zero_division` parameter to control this behavior.\n",
      "  _warn_prf(average, modifier, f\"{metric.capitalize()} is\", len(result))\n",
      "c:\\Users\\harol\\.virtualenvs\\Ejecutables-sNxlcJa2\\Lib\\site-packages\\sklearn\\metrics\\_classification.py:1531: UndefinedMetricWarning: Precision is ill-defined and being set to 0.0 in labels with no predicted samples. Use `zero_division` parameter to control this behavior.\n",
      "  _warn_prf(average, modifier, f\"{metric.capitalize()} is\", len(result))\n",
      "c:\\Users\\harol\\.virtualenvs\\Ejecutables-sNxlcJa2\\Lib\\site-packages\\sklearn\\metrics\\_classification.py:1531: UndefinedMetricWarning: Precision is ill-defined and being set to 0.0 in labels with no predicted samples. Use `zero_division` parameter to control this behavior.\n",
      "  _warn_prf(average, modifier, f\"{metric.capitalize()} is\", len(result))\n"
     ]
    }
   ],
   "source": [
    "from sklearn.metrics import accuracy_score, classification_report, confusion_matrix\n",
    "\n",
    "# Initialize the Support Vector Machine model\n",
    "svm_model = SVC(kernel='poly', degree=1)\n",
    "\n",
    "# Fit the model on the training data\n",
    "svm_model.fit(X_train, y_train)\n",
    "\n",
    "# Predict on the test data\n",
    "y_pred = svm_model.predict(X_test)\n",
    "\n",
    "# Evaluate the model's performance\n",
    "accuracy = accuracy_score(y_test, y_pred)\n",
    "misclassification_rate = 1 - accuracy\n",
    "\n",
    "print(\"Accuracy:\", accuracy)\n",
    "print(\"Misclassification Rate:\", misclassification_rate)\n",
    "\n",
    "# Classification report gives precision, recall, f1-score, and support\n",
    "print(\"\\nClassification Report:\")\n",
    "print(classification_report(y_test, y_pred))\n",
    "\n",
    "# Confusion Matrix\n",
    "print(\"\\nConfusion Matrix:\")\n",
    "print(confusion_matrix(y_test, y_pred))\n"
   ]
  },
  {
   "cell_type": "markdown",
   "metadata": {},
   "source": [
    "Conclusion \n",
    "\n",
    "Based on the above result, we can see that they are complementary. The sum of accuracy and misclassification rate is equal to 1.\n",
    "\n",
    "Model comparation:\n",
    "\n",
    "1. Accuracy measure: 0.5558\n",
    "  \n",
    "2. Misclassification Rate:  0.4441\n"
   ]
  },
  {
   "cell_type": "markdown",
   "metadata": {},
   "source": [
    "How could the models be better improved?\n",
    "\n",
    "\n",
    "Improving performance is a crucial part of model design. In this assessment, we use hyperparameter tuning and grid search, which are used to exploit a wide range of hyperparameters in a systematic way. This process allows data scientists to tune the model performance to get an optimal result. (What Is Hyperparameter Tuning? - Hyperparameter Tuning Methods Explained, n.d.)\n",
    "\n",
    "Another technique that can be used to improve the model is feature engineering, which identifies and selects the most relevant features, significantly reducing the margin. Also, data processing ensures that all values ​​are correctly scaled, and finally, Roc - AUC model evaluation, which evaluates the model when it comes to imbalanced classes."
   ]
  },
  {
   "cell_type": "markdown",
   "metadata": {},
   "source": [
    "References\n",
    "\n",
    "Classification: Accuracy, recall, precision, and related metrics | Machine Learning. (2024, August 15). Google for Developers. Retrieved August 31, 2024, from https://developers.google.com/machine-learning/crash-course/classification/accuracy-precision-recall\n",
    "\n",
    "Gillis, A. S. (n.d.). What is data splitting and why is it important? TechTarget. Retrieved August 31, 2024, from https://www.techtarget.com/searchenterpriseai/definition/data-splitting\n",
    "\n",
    "pandas. (2024). pandas.api.extensions.ExtensionArray.duplicated. https://pandas.pydata.org/docs/reference/api/pandas.api.extensions.ExtensionArray.duplicated.html#pandas.api.extensions.ExtensionArray.duplicated\n",
    "\n",
    "pandas.DataFrame.isna — pandas 2.2.2 documentation. (n.d.). Pandas. Retrieved August 30, 2024, from https://pandas.pydata.org/docs/reference/api/pandas.DataFrame.isna.html\n",
    "\n",
    "pandas.DataFrame.to_dict — pandas 2.2.2 documentation. (n.d.). Pandas. Retrieved August 30, 2024, from https://pandas.pydata.org/docs/reference/api/pandas.DataFrame.to_dict.html#pandas.DataFrame.to_dict\n",
    "\n",
    "ScienceDirect. (2000). Misclassification Rate. https://www.sciencedirect.com/topics/computer-science/misclassification-rate#:~:text=Misclassification%20Rate%20refers%20to%20the,of%20the%20Correct%20Classification%20Rate.\n",
    "\n",
    "seaborn: statistical data visualization. (n.d.). seaborn: statistical data visualization — seaborn 0.13.2 documentation. Retrieved August 30, 2024, from https://seaborn.pydata.org/\n",
    "\n",
    "train_test_split — scikit-learn 1.5.1 documentation. (n.d.). Scikit-learn. Retrieved August 31, 2024, from https://scikit-learn.org/stable/modules/generated/sklearn.model_selection.train_test_split.html\n",
    "\n",
    "What is Hyperparameter Tuning? - Hyperparameter Tuning Methods Explained. (n.d.). AWS. Retrieved August 31, 2024, from https://aws.amazon.com/what-is/hyperparameter-tuning/\n",
    "\n"
   ]
  }
 ],
 "metadata": {
  "kernelspec": {
   "display_name": "Python 3",
   "language": "python",
   "name": "python3"
  },
  "language_info": {
   "codemirror_mode": {
    "name": "ipython",
    "version": 3
   },
   "file_extension": ".py",
   "mimetype": "text/x-python",
   "name": "python",
   "nbconvert_exporter": "python",
   "pygments_lexer": "ipython3",
   "version": "3.11.9"
  }
 },
 "nbformat": 4,
 "nbformat_minor": 2
}
